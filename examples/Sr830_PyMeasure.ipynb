{
 "cells": [
  {
   "cell_type": "code",
   "execution_count": 5,
   "id": "ea386cb1",
   "metadata": {},
   "outputs": [],
   "source": [
    "from pymeasure.instruments.srs.sr830 import SR830"
   ]
  },
  {
   "cell_type": "code",
   "execution_count": 6,
   "id": "8acc6f17",
   "metadata": {},
   "outputs": [],
   "source": [
    "sr830 = SR830(15)"
   ]
  },
  {
   "cell_type": "code",
   "execution_count": 8,
   "id": "328822d9",
   "metadata": {},
   "outputs": [],
   "source": [
    "sr830.quick_properties_list = [\"phase\", \"sensitivity\"]"
   ]
  },
  {
   "cell_type": "code",
   "execution_count": 9,
   "id": "63b71052",
   "metadata": {},
   "outputs": [
    {
     "data": {
      "text/plain": [
       "{'phase': 118.99, 'sensitivity': 1}"
      ]
     },
     "execution_count": 9,
     "metadata": {},
     "output_type": "execute_result"
    }
   ],
   "source": [
    "sr830.quick_properties"
   ]
  },
  {
   "cell_type": "code",
   "execution_count": 10,
   "id": "87c818b2",
   "metadata": {},
   "outputs": [
    {
     "data": {
      "text/plain": [
       "['CHANNELS',\n",
       " 'EXPANSION_VALUES',\n",
       " 'FILTER_SLOPES',\n",
       " 'INPUT_CONFIGS',\n",
       " 'INPUT_COUPLINGS',\n",
       " 'INPUT_GROUNDINGS',\n",
       " 'INPUT_NOTCH_CONFIGS',\n",
       " 'REFERENCE_SOURCES',\n",
       " 'RESERVE_VALUES',\n",
       " 'SAMPLE_FREQUENCIES',\n",
       " 'SCPI',\n",
       " 'SENSITIVITIES',\n",
       " 'SNAP_ENUMERATION',\n",
       " 'TIME_CONSTANTS',\n",
       " '__class__',\n",
       " '__delattr__',\n",
       " '__dict__',\n",
       " '__dir__',\n",
       " '__doc__',\n",
       " '__eq__',\n",
       " '__format__',\n",
       " '__ge__',\n",
       " '__getattribute__',\n",
       " '__gt__',\n",
       " '__hash__',\n",
       " '__init__',\n",
       " '__init_subclass__',\n",
       " '__le__',\n",
       " '__lt__',\n",
       " '__module__',\n",
       " '__ne__',\n",
       " '__new__',\n",
       " '__reduce__',\n",
       " '__reduce_ex__',\n",
       " '__repr__',\n",
       " '__setattr__',\n",
       " '__sizeof__',\n",
       " '__str__',\n",
       " '__subclasshook__',\n",
       " '__weakref__',\n",
       " 'adapter',\n",
       " 'adc1',\n",
       " 'adc2',\n",
       " 'adc3',\n",
       " 'adc4',\n",
       " 'aquireOnTrigger',\n",
       " 'ask',\n",
       " 'auto_gain',\n",
       " 'auto_offset',\n",
       " 'auto_phase',\n",
       " 'auto_reserve',\n",
       " 'aux_in_1',\n",
       " 'aux_in_2',\n",
       " 'aux_in_3',\n",
       " 'aux_in_4',\n",
       " 'aux_out_1',\n",
       " 'aux_out_2',\n",
       " 'aux_out_3',\n",
       " 'aux_out_4',\n",
       " 'binary_values',\n",
       " 'buffer_count',\n",
       " 'buffer_measure',\n",
       " 'channel1',\n",
       " 'channel2',\n",
       " 'check_errors',\n",
       " 'clear',\n",
       " 'complete',\n",
       " 'control',\n",
       " 'dac1',\n",
       " 'dac2',\n",
       " 'dac3',\n",
       " 'dac4',\n",
       " 'err_status',\n",
       " 'fill_buffer',\n",
       " 'filter_slope',\n",
       " 'frequency',\n",
       " 'get',\n",
       " 'get_buffer',\n",
       " 'get_scaling',\n",
       " 'harmonic',\n",
       " 'id',\n",
       " 'input_config',\n",
       " 'input_coupling',\n",
       " 'input_grounding',\n",
       " 'input_notch_config',\n",
       " 'isShutdown',\n",
       " 'is_out_of_range',\n",
       " 'lia_status',\n",
       " 'magnitude',\n",
       " 'measurement',\n",
       " 'name',\n",
       " 'options',\n",
       " 'output_conversion',\n",
       " 'pause_buffer',\n",
       " 'phase',\n",
       " 'quick_properties',\n",
       " 'quick_properties_list',\n",
       " 'quick_props_list',\n",
       " 'quick_range',\n",
       " 'read',\n",
       " 'reference_source',\n",
       " 'reserve',\n",
       " 'reset',\n",
       " 'reset_buffer',\n",
       " 'sample_frequency',\n",
       " 'sensitivity',\n",
       " 'set_scaling',\n",
       " 'setting',\n",
       " 'shutdown',\n",
       " 'sine_voltage',\n",
       " 'snap',\n",
       " 'start_buffer',\n",
       " 'status',\n",
       " 'theta',\n",
       " 'time_constant',\n",
       " 'trigger',\n",
       " 'values',\n",
       " 'wait_for_buffer',\n",
       " 'write',\n",
       " 'x',\n",
       " 'xy',\n",
       " 'y']"
      ]
     },
     "execution_count": 10,
     "metadata": {},
     "output_type": "execute_result"
    }
   ],
   "source": [
    "dir(sr830)"
   ]
  },
  {
   "cell_type": "code",
   "execution_count": null,
   "id": "7cfb16ae",
   "metadata": {},
   "outputs": [],
   "source": []
  }
 ],
 "metadata": {
  "kernelspec": {
   "display_name": "Python 3",
   "language": "python",
   "name": "python3"
  },
  "language_info": {
   "codemirror_mode": {
    "name": "ipython",
    "version": 3
   },
   "file_extension": ".py",
   "mimetype": "text/x-python",
   "name": "python",
   "nbconvert_exporter": "python",
   "pygments_lexer": "ipython3",
   "version": "3.8.11"
  }
 },
 "nbformat": 4,
 "nbformat_minor": 5
}
