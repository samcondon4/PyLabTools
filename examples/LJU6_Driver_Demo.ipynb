{
 "cells": [
  {
   "cell_type": "code",
   "execution_count": null,
   "id": "closing-wellington",
   "metadata": {},
   "outputs": [],
   "source": [
    "import numpy as np\n",
    "import asyncio\n",
    "import sys\n",
    "sys.path.append(\"..\\\\pylab\")\n",
    "\n",
    "from pylablib.instruments.labjacku6 import Labjack"
   ]
  },
  {
   "cell_type": "code",
   "execution_count": null,
   "id": "threatened-customer",
   "metadata": {},
   "outputs": [],
   "source": [
    "lj = Labjack()\n",
    "lj.open()"
   ]
  },
  {
   "cell_type": "code",
   "execution_count": null,
   "id": "sound-theorem",
   "metadata": {},
   "outputs": [],
   "source": [
    "lj.set_dio_config({0: \"Output\"})"
   ]
  },
  {
   "cell_type": "code",
   "execution_count": null,
   "id": "killing-organ",
   "metadata": {},
   "outputs": [],
   "source": [
    "lj.set_dio_state({0: 0})"
   ]
  },
  {
   "cell_type": "code",
   "execution_count": null,
   "id": "defensive-adventure",
   "metadata": {},
   "outputs": [],
   "source": []
  }
 ],
 "metadata": {
  "kernelspec": {
   "display_name": "Python 3",
   "language": "python",
   "name": "python3"
  },
  "language_info": {
   "codemirror_mode": {
    "name": "ipython",
    "version": 3
   },
   "file_extension": ".py",
   "mimetype": "text/x-python",
   "name": "python",
   "nbconvert_exporter": "python",
   "pygments_lexer": "ipython3",
   "version": "3.8.8"
  }
 },
 "nbformat": 4,
 "nbformat_minor": 5
}
