{
 "cells": [
  {
   "cell_type": "code",
   "execution_count": 1,
   "metadata": {},
   "outputs": [],
   "source": [
    "class SM:\n",
    "    def start(self):\n",
    "        self.state = self.startState\n",
    "\n",
    "    def step(self,inp):\n",
    "        (s,o) = self.getNextValues(self.state,inp)\n",
    "        self.state = s\n",
    "        return o\n",
    "\n",
    "    def transduce(self, inputs):\n",
    "        self.start()\n",
    "        return [self.step(inp) for inp in inputs]\n",
    "\n",
    "class Accumulator(SM):\n",
    "    #startState = 0\n",
    "    \n",
    "    def __init__(self, initialValue):\n",
    "        self.startState = initialValue\n",
    "\n",
    "    def getNextValues(self, state, inp):\n",
    "        return state + inp, state + inp"
   ]
  },
  {
   "cell_type": "code",
   "execution_count": 2,
   "metadata": {},
   "outputs": [],
   "source": [
    "a = Accumulator(2)\n",
    "a.start()"
   ]
  },
  {
   "cell_type": "code",
   "execution_count": 3,
   "metadata": {},
   "outputs": [
    {
     "data": {
      "text/plain": [
       "5"
      ]
     },
     "execution_count": 3,
     "metadata": {},
     "output_type": "execute_result"
    }
   ],
   "source": [
    "a.step(3)"
   ]
  },
  {
   "cell_type": "code",
   "execution_count": 4,
   "metadata": {},
   "outputs": [
    {
     "data": {
      "text/plain": [
       "[10, 13]"
      ]
     },
     "execution_count": 4,
     "metadata": {},
     "output_type": "execute_result"
    }
   ],
   "source": [
    "a = Accumulator(5)\n",
    "a.transduce([5,3])"
   ]
  },
  {
   "cell_type": "code",
   "execution_count": null,
   "metadata": {},
   "outputs": [],
   "source": []
  },
  {
   "cell_type": "code",
   "execution_count": null,
   "metadata": {},
   "outputs": [],
   "source": [
    "class SM:\n",
    "    \n",
    "    def start(self):\n",
    "        self.state = self.startState\n",
    "\n",
    "    def step(self,inp):\n",
    "        (s,o) = self.getNextValues(self.state,inp)\n",
    "        self.state = s\n",
    "        return o\n",
    "\n",
    "    def transduce(self, inputs):\n",
    "        self.start()\n",
    "        return [self.step(inp) for inp in inputs]\n",
    "\n",
    "class Accumulator(SM):\n",
    "    #startState = 0\n",
    "    \n",
    "    def __init__(self, initialValue):\n",
    "        self.startState = initialValue\n",
    "\n",
    "    def getNextValues(self, state, inp):\n",
    "        return state + inp, state + inp"
   ]
  },
  {
   "cell_type": "code",
   "execution_count": null,
   "metadata": {},
   "outputs": [],
   "source": [
    "class SpectralCalibrationMachine(SM):\n",
    "    \n",
    "    startState = 'waiting'\n",
    "    \n",
    "    def __init__(self):\n",
    "        print('Launch GUI')\n",
    "        print('Start by Initialization')\n",
    "        self.initialize()\n",
    "        \n",
    "    def initialize(self):\n",
    "        print('Run Initialization Procedure')\n",
    "        self.intialized = True\n",
    "            \n",
    "    def generateOutput(self,state):\n",
    "        if state == 'initializing':\n",
    "            return 'initialize'\n",
    "        elif state == 'collecting':\n",
    "            return 'collect'\n",
    "        elif state == 'compressing':\n",
    "            return 'compress'\n",
    "        elif state == 'storing':\n",
    "            return 'write to disk'\n",
    "        else:\n",
    "            return 'wait' \n",
    "        \n",
    "    # Inputs to consider: initStatus, errorStatus, rawDataCompressReady, rawDataCompressed, dataWriteReady, dataWritten\n",
    "    def getNextValues(self, state, inp):\n",
    "        #(initStatus, errorStatus, rawDataCompressReady, rawDataCompressed, dataWriteReady, dataWritten) = inp\n",
    "        #pdb.set_trace()\n",
    "        if self.errorStatus == True:\n",
    "            nextState = 'error' \n",
    "        elif state == 'waiting' and inp == 'initialize':\n",
    "            nextState = 'initializing'\n",
    "        elif state == 'waiting' and self.init_status == True and inp == 'collect':\n",
    "            nextState = 'collecting'\n",
    "        elif state == 'waiting' and self.data_in_queue == True and inp == 'compress':\n",
    "            nextState = 'compressing'\n",
    "        elif state == 'waiting' and self.data_ready_to_store == True and inp == 'write_to_disk':\n",
    "            nextState = 'storing'\n",
    "        else:\n",
    "            nextState = 'error'\n",
    "            \n",
    "        return (nextState, self.generateOutput(nextState))"
   ]
  },
  {
   "cell_type": "code",
   "execution_count": null,
   "metadata": {},
   "outputs": [],
   "source": [
    "scm = SpectralCalibrationMachine()"
   ]
  },
  {
   "cell_type": "code",
   "execution_count": null,
   "metadata": {},
   "outputs": [],
   "source": [
    "scm.start()"
   ]
  },
  {
   "cell_type": "code",
   "execution_count": null,
   "metadata": {},
   "outputs": [],
   "source": [
    "inp = (False, False, False, False, False, False)\n",
    "scm.transduce([inp])"
   ]
  },
  {
   "cell_type": "code",
   "execution_count": null,
   "metadata": {},
   "outputs": [],
   "source": [
    "scm.state"
   ]
  }
 ],
 "metadata": {
  "kernelspec": {
   "display_name": "Python 3",
   "language": "python",
   "name": "python3"
  },
  "language_info": {
   "codemirror_mode": {
    "name": "ipython",
    "version": 3
   },
   "file_extension": ".py",
   "mimetype": "text/x-python",
   "name": "python",
   "nbconvert_exporter": "python",
   "pygments_lexer": "ipython3",
   "version": "3.8.5"
  }
 },
 "nbformat": 4,
 "nbformat_minor": 4
}
