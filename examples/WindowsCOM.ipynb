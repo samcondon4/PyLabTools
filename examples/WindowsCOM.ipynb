{
 "cells": [
  {
   "cell_type": "code",
   "execution_count": 14,
   "id": "e119a77f",
   "metadata": {},
   "outputs": [],
   "source": [
    "import win32com.server.register\n",
    "import pythoncom"
   ]
  },
  {
   "cell_type": "code",
   "execution_count": 6,
   "id": "4655cab1",
   "metadata": {},
   "outputs": [],
   "source": [
    "class PythonUtilities:\n",
    "    _public_methods_ = [ 'SplitString' ]\n",
    "    _reg_progid_ = \"PythonDemos.Utilities\"\n",
    "    _reg_clsid_ = pythoncom.CreateGuid()\n",
    "    \n",
    "    def SplitString(self, val, item=None):\n",
    "        import string\n",
    "        if item != None: item = str(item)\n",
    "        return string.split(str(val), item)"
   ]
  },
  {
   "cell_type": "code",
   "execution_count": 15,
   "id": "78a004f8",
   "metadata": {},
   "outputs": [
    {
     "name": "stdout",
     "output_type": "stream",
     "text": [
      "Requesting elevation and retrying...\n",
      "Error: registration failed (exit code 1).\n",
      "Traceback (most recent call last):\n",
      "  File \"C:\\Users\\thoma\\anaconda3\\envs\\SPHEREx-Test-Cal\\lib\\site-packages\\ipykernel_launcher.py\", line 15, in <module>\n",
      "    from ipykernel import kernelapp as app\n",
      "  File \"C:\\Users\\thoma\\anaconda3\\envs\\SPHEREx-Test-Cal\\lib\\site-packages\\ipykernel\\__init__.py\", line 2, in <module>\n",
      "    from .connect import *\n",
      "  File \"C:\\Users\\thoma\\anaconda3\\envs\\SPHEREx-Test-Cal\\lib\\site-packages\\ipykernel\\connect.py\", line 12, in <module>\n",
      "    import jupyter_client\n",
      "  File \"C:\\Users\\thoma\\anaconda3\\envs\\SPHEREx-Test-Cal\\lib\\site-packages\\jupyter_client\\__init__.py\", line 4, in <module>\n",
      "    from .connect import *\n",
      "  File \"C:\\Users\\thoma\\anaconda3\\envs\\SPHEREx-Test-Cal\\lib\\site-packages\\jupyter_client\\connect.py\", line 21, in <module>\n",
      "    import zmq\n",
      "  File \"C:\\Users\\thoma\\anaconda3\\envs\\SPHEREx-Test-Cal\\lib\\site-packages\\zmq\\__init__.py\", line 103, in <module>\n",
      "    from zmq import backend\n",
      "  File \"C:\\Users\\thoma\\anaconda3\\envs\\SPHEREx-Test-Cal\\lib\\site-packages\\zmq\\backend\\__init__.py\", line 32, in <module>\n",
      "    raise original_error from None\n",
      "  File \"C:\\Users\\thoma\\anaconda3\\envs\\SPHEREx-Test-Cal\\lib\\site-packages\\zmq\\backend\\__init__.py\", line 27, in <module>\n",
      "    _ns = select_backend(first)\n",
      "  File \"C:\\Users\\thoma\\anaconda3\\envs\\SPHEREx-Test-Cal\\lib\\site-packages\\zmq\\backend\\select.py\", line 32, in select_backend\n",
      "    mod = import_module(name)\n",
      "  File \"C:\\Users\\thoma\\ANACON~1\\envs\\SPHERE~1\\lib\\importlib\\__init__.py\", line 127, in import_module\n",
      "    return _bootstrap._gcd_import(name[level:], package, level)\n",
      "  File \"C:\\Users\\thoma\\anaconda3\\envs\\SPHEREx-Test-Cal\\lib\\site-packages\\zmq\\backend\\cython\\__init__.py\", line 6, in <module>\n",
      "    from . import (\n",
      "ImportError: DLL load failed while importing error: The specified module could not be found.\n",
      " "
     ]
    }
   ],
   "source": [
    "win32com.server.register.UseCommandLine(PythonUtilities)"
   ]
  },
  {
   "cell_type": "code",
   "execution_count": null,
   "id": "2ad9c8fb",
   "metadata": {},
   "outputs": [],
   "source": []
  }
 ],
 "metadata": {
  "kernelspec": {
   "display_name": "Python 3 (ipykernel)",
   "language": "python",
   "name": "python3"
  },
  "language_info": {
   "codemirror_mode": {
    "name": "ipython",
    "version": 3
   },
   "file_extension": ".py",
   "mimetype": "text/x-python",
   "name": "python",
   "nbconvert_exporter": "python",
   "pygments_lexer": "ipython3",
   "version": "3.8.8"
  }
 },
 "nbformat": 4,
 "nbformat_minor": 5
}
