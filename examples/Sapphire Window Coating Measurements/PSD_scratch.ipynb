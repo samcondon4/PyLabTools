{
 "cells": [
  {
   "cell_type": "code",
   "execution_count": 2,
   "id": "sustainable-excuse",
   "metadata": {},
   "outputs": [],
   "source": [
    "import numpy as np\n",
    "import matplotlib.pyplot as plt\n",
    "import scipy.fft as spfft"
   ]
  },
  {
   "cell_type": "code",
   "execution_count": 3,
   "id": "flush-bacon",
   "metadata": {},
   "outputs": [],
   "source": [
    "def fft(samples, fs, N=None, ax=None, plot=True):\n",
    "    if N == None:\n",
    "        N = len(samples)\n",
    "    \n",
    "    samps_fft = (1/N)*spfft.fft(samples, n=N)\n",
    "    freqs = spfft.fftshift(spfft.fftfreq(N, d=1/fs)) #shift for zero frequency in center\n",
    "    samps_fft = spfft.fftshift(samps_fft)\n",
    "    samps_fft_mag = np.absolute(samps_fft)\n",
    "       \n",
    "    ##Apply fft magnitude scaling##\n",
    "    #samps_fft_mag *= (2/N)\n",
    "    #samps_fft_mag[np.where(freqs == 0)] /= 2\n",
    "    \n",
    "    fft_dict = {'fft': samps_fft, 'fft_mags': samps_fft_mag,\n",
    "                'freqs': freqs}\n",
    "    \n",
    "    if ax is None and plot:\n",
    "        fft_fig, ax = plt.subplots(figsize=(10,5))\n",
    "    \n",
    "    if plot:\n",
    "        ax.plot(fft_dict['freqs'], fft_dict['fft_mags'])\n",
    "        ax.set_title('Sample FFT')\n",
    "        ax.set_xlabel('Frequency (Hz.)')\n",
    "        ax.set_ylabel('|X(f)|')\n",
    "\n",
    "    return fft_dict"
   ]
  },
  {
   "cell_type": "code",
   "execution_count": 4,
   "id": "cultural-nursery",
   "metadata": {},
   "outputs": [],
   "source": [
    "def fft_rms_power_calc(fft_mags, fft_freqs, int_t=None):\n",
    "        \n",
    "    if int_t is not None:\n",
    "        #Frequency response of moving average filter applied from integration\n",
    "        Hma = np.abs(np.sinc(fft_freqs*int_t))\n",
    "        #Apply filtering in fourier space\n",
    "        fft_mags = np.multiply(Hma, fft_mags)\n",
    "    \n",
    "    return np.sqrt(np.sum(fft_mags**2)) "
   ]
  },
  {
   "cell_type": "code",
   "execution_count": 9,
   "id": "collect-steel",
   "metadata": {},
   "outputs": [],
   "source": [
    "fs = 500\n",
    "t = np.arange(-20000,20000, 1/fs)\n",
    "f = 10\n",
    "test_sig = 4 + 20*np.sin(2*np.pi*f*t)"
   ]
  },
  {
   "cell_type": "code",
   "execution_count": 10,
   "id": "hollow-mobile",
   "metadata": {},
   "outputs": [
    {
     "data": {
      "image/png": "[encoded data removed]",
      "text/plain": [
       "<Figure size 720x360 with 1 Axes>"
      ]
     },
     "metadata": {
      "needs_background": "light"
     },
     "output_type": "display_data"
    }
   ],
   "source": [
    "ts_fft = fft(test_sig, fs)"
   ]
  },
  {
   "cell_type": "code",
   "execution_count": 11,
   "id": "rural-brighton",
   "metadata": {},
   "outputs": [
    {
     "data": {
      "text/plain": [
       "3.9999999997450364"
      ]
     },
     "execution_count": 11,
     "metadata": {},
     "output_type": "execute_result"
    }
   ],
   "source": [
    "fft_rms_power_calc(ts_fft['fft_mags'], ts_fft['freqs'], 1000)"
   ]
  },
  {
   "cell_type": "code",
   "execution_count": 8,
   "id": "subjective-liberia",
   "metadata": {},
   "outputs": [
    {
     "data": {
      "text/plain": [
       "14.696938456715639"
      ]
     },
     "execution_count": 8,
     "metadata": {},
     "output_type": "execute_result"
    }
   ],
   "source": [
    "#root mean square\n",
    "np.sqrt((test_sig**2).mean())"
   ]
  },
  {
   "cell_type": "code",
   "execution_count": 12,
   "id": "finnish-madagascar",
   "metadata": {},
   "outputs": [
    {
     "name": "stdout",
     "output_type": "stream",
     "text": [
      "2.9814356336617625\n",
      "4.00000000000293\n"
     ]
    }
   ],
   "source": [
    "int_t = 100\n",
    "\n",
    "#Generate moving average filter corresponding to given integration time and perform filtering in time\n",
    "ma_N = int(int_t*fs)\n",
    "ma_filter = (1/ma_N)*np.ones(ma_N)\n",
    "#ma_filter_fft = fft(ma_filter, fs, N=ws_len, plot=False)\n",
    "ts_integrated = np.convolve(ma_filter, test_sig)\n",
    "ts_power_fft = fft_rms_power_calc(ts_fft['fft_mags'], ts_fft['freqs'], int_t=int_t)\n",
    "\n",
    "print(np.sqrt((ts_integrated**2).mean()))\n",
    "print(ts_power_fft)"
   ]
  }
 ],
 "metadata": {
  "kernelspec": {
   "display_name": "Python 3",
   "language": "python",
   "name": "python3"
  },
  "language_info": {
   "codemirror_mode": {
    "name": "ipython",
    "version": 3
   },
   "file_extension": ".py",
   "mimetype": "text/x-python",
   "name": "python",
   "nbconvert_exporter": "python",
   "pygments_lexer": "ipython3",
   "version": "3.8.8"
  }
 },
 "nbformat": 4,
 "nbformat_minor": 5
}
