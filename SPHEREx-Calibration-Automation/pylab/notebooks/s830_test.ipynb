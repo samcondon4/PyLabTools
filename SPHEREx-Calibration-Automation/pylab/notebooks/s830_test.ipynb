{
 "cells": [
  {
   "cell_type": "code",
   "execution_count": 1,
   "id": "1de0e1e9",
   "metadata": {},
   "outputs": [],
   "source": [
    "import asyncio\n",
    "import datetime\n",
    "from time import sleep\n",
    "import numpy as np\n",
    "from pymeasure.experiment import Procedure, Worker, Results\n",
    "from pymeasure.experiment import FloatParameter\n",
    "import sys\n",
    "sys.path.append(\"..\\\\\")\n",
    "from pylabinst.SR830 import SR830\n",
    "from pylabsm.pylabsm_measure_procedures.pylabsm_proc_sr830 import run_sr830_procedure"
   ]
  },
  {
   "cell_type": "code",
   "execution_count": 6,
   "id": "0d38d4af",
   "metadata": {},
   "outputs": [],
   "source": [
    "class Sr830Procedure(Procedure):\n",
    "\n",
    "    sr830_instance = None\n",
    "    sample_frequency = FloatParameter(\"Sample Frequency\", units=\"Hz.\", default=4,\n",
    "                                      minimum=2**-4, maximum=2**9)\n",
    "    sample_time = FloatParameter(\"Sample Time\", units=\"s.\", default=10)\n",
    "\n",
    "    DATA_COLUMNS = [\"Time Stamp\", \"X Channel Voltage (V.)\", \"Y Channel Voltage (V.)\"]\n",
    "\n",
    "    def execute(self):\n",
    "        if self.sr830_instance is not None:\n",
    "            sample_period = 1/self.sample_frequency\n",
    "            samples = int(np.ceil(self.sample_frequency * self.sample_time))\n",
    "            print(samples)\n",
    "            for i in range(samples):\n",
    "                time_stamp = datetime.datetime.now()\n",
    "                voltage = self.sr830_instance.snap().split(\",\")\n",
    "                x_voltage = voltage[0]\n",
    "                y_voltage = voltage[1]\n",
    "                self.emit('results', {\"Time Stamp\": time_stamp, \"X Channel Voltage (V.)\": x_voltage,\n",
    "                                      \"Y Channel Voltage (V.)\": y_voltage})\n",
    "                sleep(sample_period)\n",
    "        else:\n",
    "            raise RuntimeError(\"No valid SR830 class instance has been passed to the procedure.\")"
   ]
  },
  {
   "cell_type": "code",
   "execution_count": 8,
   "id": "e062fe94",
   "metadata": {},
   "outputs": [
    {
     "name": "stdout",
     "output_type": "stream",
     "text": [
      "40\n"
     ]
    }
   ],
   "source": [
    "sr830 = SR830()\n",
    "await sr830.open()\n",
    "\n",
    "filename = \".\\\\test.csv\"\n",
    "fs = 4\n",
    "sample_time = 10\n",
    "\n",
    "sr830_proc = Sr830Procedure()\n",
    "\n",
    "\n",
    "results = Results(sr830_proc, filename)\n",
    "worker = Worker(results)\n",
    "sr830_proc.sr830_instance = sr830\n",
    "sr830_proc.sample_frequency = fs\n",
    "sr830_proc.sample_time = sample_time\n",
    "worker.start()\n",
    "worker.join(timeout=100)"
   ]
  },
  {
   "cell_type": "code",
   "execution_count": null,
   "id": "03c6c974",
   "metadata": {},
   "outputs": [],
   "source": []
  }
 ],
 "metadata": {
  "kernelspec": {
   "display_name": "Python 3",
   "language": "python",
   "name": "python3"
  },
  "language_info": {
   "codemirror_mode": {
    "name": "ipython",
    "version": 3
   },
   "file_extension": ".py",
   "mimetype": "text/x-python",
   "name": "python",
   "nbconvert_exporter": "python",
   "pygments_lexer": "ipython3",
   "version": "3.8.11"
  }
 },
 "nbformat": 4,
 "nbformat_minor": 5
}
