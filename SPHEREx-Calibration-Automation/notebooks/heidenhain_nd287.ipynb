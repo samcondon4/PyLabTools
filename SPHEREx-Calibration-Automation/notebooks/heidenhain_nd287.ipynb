{
 "cells": [
  {
   "cell_type": "code",
   "execution_count": 1,
   "id": "9ee9157a",
   "metadata": {},
   "outputs": [],
   "source": [
    "from pymeasure.instruments.heidenhain import Nd287"
   ]
  },
  {
   "cell_type": "code",
   "execution_count": 2,
   "id": "03e71f74",
   "metadata": {},
   "outputs": [],
   "source": [
    "ser_config = {\n",
    "    \"read_termination\": \"\\r\\n\"\n",
    "}\n",
    "\n",
    "nd287 = Nd287(\"COM5\", **ser_config)"
   ]
  },
  {
   "cell_type": "code",
   "execution_count": 3,
   "id": "f1938ad0",
   "metadata": {},
   "outputs": [],
   "source": [
    "nd287.units = \"mm\""
   ]
  },
  {
   "cell_type": "code",
   "execution_count": 4,
   "id": "5d536012",
   "metadata": {},
   "outputs": [
    {
     "data": {
      "text/plain": [
       "0.0005"
      ]
     },
     "execution_count": 4,
     "metadata": {},
     "output_type": "execute_result"
    }
   ],
   "source": [
    "nd287.position"
   ]
  },
  {
   "cell_type": "code",
   "execution_count": 5,
   "id": "639a5596",
   "metadata": {},
   "outputs": [
    {
     "data": {
      "text/plain": [
       "'\\x02   ND-287'"
      ]
     },
     "execution_count": 5,
     "metadata": {},
     "output_type": "execute_result"
    }
   ],
   "source": [
    "nd287.id"
   ]
  },
  {
   "cell_type": "code",
   "execution_count": null,
   "id": "7f170505",
   "metadata": {},
   "outputs": [],
   "source": []
  }
 ],
 "metadata": {
  "kernelspec": {
   "display_name": "Python 3",
   "language": "python",
   "name": "python3"
  },
  "language_info": {
   "codemirror_mode": {
    "name": "ipython",
    "version": 3
   },
   "file_extension": ".py",
   "mimetype": "text/x-python",
   "name": "python",
   "nbconvert_exporter": "python",
   "pygments_lexer": "ipython3",
   "version": "3.8.11"
  }
 },
 "nbformat": 4,
 "nbformat_minor": 5
}
