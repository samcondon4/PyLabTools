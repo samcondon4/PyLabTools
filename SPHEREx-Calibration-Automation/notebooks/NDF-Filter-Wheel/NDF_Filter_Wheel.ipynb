{
 "cells": [
  {
   "cell_type": "code",
   "execution_count": 1,
   "metadata": {},
   "outputs": [],
   "source": [
    "import clr\n",
    "#This assumes that the Dlls are in the same folder as the python script\n",
    "clr.AddReference('OptecHID_FilterWheelAPI')\n",
    "from OptecHID_FilterWheelAPI import FilterWheels\n",
    "from OptecHID_FilterWheelAPI import FilterWheel"
   ]
  },
  {
   "cell_type": "code",
   "execution_count": 2,
   "metadata": {},
   "outputs": [],
   "source": [
    "class NDFWheel:\n",
    "    \n",
    "    def __init__(self):\n",
    "        #Initialize attributes\n",
    "        self.HSFW = FilterWheels().FilterWheelList[0]\n",
    "        self.err_state = 0\n",
    "        self.pos = 0\n",
    "        #Home device\n",
    "        self.clear_error()\n",
    "        self.home()\n",
    "        self.get_pos()\n",
    "    \n",
    "    def home(self):\n",
    "        self.HSFW.HomeDevice()\n",
    "        self.get_error()\n",
    "        if(self.err_state != 0):\n",
    "            print(\"Error {} occured during homing!\".format(self.err_state))\n",
    "        \n",
    "    def get_pos(self):\n",
    "        self.pos = self.HSFW.CurrentPosition\n",
    "        return self.pos\n",
    "    \n",
    "    def set_pos(self, position):\n",
    "        self.HSFW.CurrentPosition = position\n",
    "        self.get_error()\n",
    "        if(self.err_state != 0):\n",
    "            print(\"Error {} occured during movement!\".format(self.err_state))\n",
    "            self.pos = 0\n",
    "        else:\n",
    "            self.pos = position\n",
    "        return self.pos\n",
    "    \n",
    "    def get_error(self):\n",
    "        self.err_state = self.HSFW.ErrorState\n",
    "        return self.err_state\n",
    "    \n",
    "    def clear_error(self):\n",
    "        self.HSFW.ClearErrorState()\n",
    "    \n",
    "    "
   ]
  },
  {
   "cell_type": "code",
   "execution_count": 3,
   "metadata": {},
   "outputs": [],
   "source": [
    "ndf = NDFWheel()"
   ]
  },
  {
   "cell_type": "code",
   "execution_count": 4,
   "metadata": {},
   "outputs": [
    {
     "data": {
      "text/plain": [
       "1"
      ]
     },
     "execution_count": 4,
     "metadata": {},
     "output_type": "execute_result"
    }
   ],
   "source": [
    "for i in [1,2,3,4,5,6,7,8]:\n",
    "    ndf.set_pos(i)\n",
    "ndf.home()\n",
    "#Should return 1 after final home operation\n",
    "ndf.get_pos()"
   ]
  }
 ],
 "metadata": {
  "kernelspec": {
   "display_name": "Python 3",
   "language": "python",
   "name": "python3"
  },
  "language_info": {
   "codemirror_mode": {
    "name": "ipython",
    "version": 3
   },
   "file_extension": ".py",
   "mimetype": "text/x-python",
   "name": "python",
   "nbconvert_exporter": "python",
   "pygments_lexer": "ipython3",
   "version": "3.8.5"
  }
 },
 "nbformat": 4,
 "nbformat_minor": 4
}
