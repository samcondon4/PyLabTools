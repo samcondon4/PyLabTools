{
 "cells": [
  {
   "cell_type": "code",
   "execution_count": 19,
   "metadata": {},
   "outputs": [],
   "source": [
    "import clr\n",
    "import time\n",
    "import numpy as np\n",
    "#This assumes that the Dlls are in the same folder as the python script\n",
    "clr.AddReference('OptecHID_FilterWheelAPI')\n",
    "from OptecHID_FilterWheelAPI import FilterWheels\n",
    "from OptecHID_FilterWheelAPI import FilterWheel"
   ]
  },
  {
   "cell_type": "code",
   "execution_count": 20,
   "metadata": {},
   "outputs": [],
   "source": [
    "HSFW = FilterWheels().FilterWheelList[0]"
   ]
  },
  {
   "cell_type": "code",
   "execution_count": 21,
   "metadata": {},
   "outputs": [],
   "source": [
    "HSFW.HomeDevice()"
   ]
  },
  {
   "cell_type": "code",
   "execution_count": 22,
   "metadata": {},
   "outputs": [],
   "source": [
    "for i in np.arange(1,9):\n",
    "    HSFW.CurrentPosition = i\n",
    "    time.sleep(3)"
   ]
  }
 ],
 "metadata": {
  "kernelspec": {
   "display_name": "Python 3",
   "language": "python",
   "name": "python3"
  },
  "language_info": {
   "codemirror_mode": {
    "name": "ipython",
    "version": 3
   },
   "file_extension": ".py",
   "mimetype": "text/x-python",
   "name": "python",
   "nbconvert_exporter": "python",
   "pygments_lexer": "ipython3",
   "version": "3.8.5"
  }
 },
 "nbformat": 4,
 "nbformat_minor": 4
}
