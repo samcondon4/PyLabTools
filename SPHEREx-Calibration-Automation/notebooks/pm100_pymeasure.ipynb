{
 "cells": [
  {
   "cell_type": "code",
   "execution_count": 11,
   "id": "d3d2dbb7",
   "metadata": {},
   "outputs": [],
   "source": [
    "from pymeasure.instruments.thorlabs import ThorlabsPM100USB\n",
    "from pymeasure.adapters import VISAAdapter\n",
    "from pymeasure.experiment import Procedure, IntegerParameter, FloatParameter\n",
    "from time import sleep\n",
    "from datetime import datetime, time"
   ]
  },
  {
   "cell_type": "code",
   "execution_count": 17,
   "id": "15e68bb4",
   "metadata": {},
   "outputs": [],
   "source": [
    "time1 = datetime.now()"
   ]
  },
  {
   "cell_type": "code",
   "execution_count": 31,
   "id": "7d6ec9a2",
   "metadata": {},
   "outputs": [],
   "source": [
    "time2 = datetime.now()"
   ]
  },
  {
   "cell_type": "code",
   "execution_count": 34,
   "id": "f70aab63",
   "metadata": {},
   "outputs": [],
   "source": [
    "timedelta = (time2 - time1).total_seconds()"
   ]
  },
  {
   "cell_type": "markdown",
   "id": "b9fc92da",
   "metadata": {},
   "source": [
    "Connect to instrument"
   ]
  },
  {
   "cell_type": "code",
   "execution_count": 6,
   "id": "101b1e27",
   "metadata": {},
   "outputs": [],
   "source": [
    "adapter = VISAAdapter(\"USB0::0x1313::0x8072::1912814 ::INSTR\")\n",
    "pm100 = ThorlabsPM100USB(adapter)"
   ]
  },
  {
   "cell_type": "markdown",
   "id": "30bdfbb1",
   "metadata": {},
   "source": [
    "Create a measurement procedure"
   ]
  },
  {
   "cell_type": "code",
   "execution_count": null,
   "id": "b56dd792",
   "metadata": {},
   "outputs": [],
   "source": [
    "class PowerProcedure(Procedure):\n",
    "    \n",
    "    sample_frequency = FloatParameter(\"Sample Frequency\", units=\"Hz.\", default=2)\n",
    "    sample_duration = FloatParameter(\"Sample Duration\", units = \"s.\", default=10)\n",
    "    wavelength = FloatParameter(\"Wavelength\", units=\"um.\", default=0.7)\n",
    "    \n",
    "    DATA_COLUMNS = [\"Time (s.)\", \"Wavelength (um.)\", \"Power (W.)\"]\n",
    "    \n",
    "    def startup(self):\n",
    "        self.adapter = VISAAdapter(\"USB0::0x1313::0x8072::1912814 ::INSTR\")\n",
    "        self.pm100 = ThorlabsPM100USB(self.adapter)\n",
    "        self.pm100.reset()\n",
    "        self.pm100.wavelength = wavelength\n",
    "        \n",
    "    def execute(self):\n",
    "        total_time = 0\n",
    "        time0 = datetime.now()\n",
    "        while(total_time < sample_duration):\n",
    "            total_time = (datetime.now() - time0).total_seconds()\n",
    "            power = self.pm100.power\n",
    "            self.emit(\"results\")"
   ]
  },
  {
   "cell_type": "code",
   "execution_count": null,
   "id": "e40aaf28",
   "metadata": {},
   "outputs": [],
   "source": []
  }
 ],
 "metadata": {
  "kernelspec": {
   "display_name": "Python 3 (ipykernel)",
   "language": "python",
   "name": "python3"
  },
  "language_info": {
   "codemirror_mode": {
    "name": "ipython",
    "version": 3
   },
   "file_extension": ".py",
   "mimetype": "text/x-python",
   "name": "python",
   "nbconvert_exporter": "python",
   "pygments_lexer": "ipython3",
   "version": "3.8.8"
  }
 },
 "nbformat": 4,
 "nbformat_minor": 5
}
