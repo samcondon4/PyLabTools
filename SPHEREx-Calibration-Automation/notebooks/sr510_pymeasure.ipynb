{
 "cells": [
  {
   "cell_type": "code",
   "execution_count": 1,
   "id": "2042bbd2",
   "metadata": {},
   "outputs": [],
   "source": [
    "from pymeasure.instruments.srs import SR510\n",
    "from sr510proc import Sr510Measurement"
   ]
  },
  {
   "cell_type": "code",
   "execution_count": 2,
   "id": "a8b2f309",
   "metadata": {},
   "outputs": [],
   "source": [
    "sr510 = SR510(\"GPIB0::6::INSTR\")\n",
    "sr510_measure = Sr510Measurement()"
   ]
  },
  {
   "cell_type": "code",
   "execution_count": 3,
   "id": "c511577c",
   "metadata": {},
   "outputs": [],
   "source": [
    "sr510.quick_properties_list = [\"pre_time_constant, sensitivity\"]"
   ]
  },
  {
   "cell_type": "code",
   "execution_count": 10,
   "id": "751e6f27",
   "metadata": {},
   "outputs": [],
   "source": [
    "measure_parameters = {\"SR510\": sr510, \"sample_rate\": 4, \"sample_time\": 10, \"storage_path\": \"C:\\\\Users\\\\b111-lab\\\\Test-Cal\\\\Measurements\\\\tmp\\\\test.csv\"}"
   ]
  },
  {
   "cell_type": "code",
   "execution_count": 11,
   "id": "b6038ba4",
   "metadata": {},
   "outputs": [
    {
     "name": "stdout",
     "output_type": "stream",
     "text": [
      "running\n"
     ]
    }
   ],
   "source": [
    "await sr510_measure.run(measure_parameters)"
   ]
  },
  {
   "cell_type": "code",
   "execution_count": null,
   "id": "5bd7edc5",
   "metadata": {},
   "outputs": [],
   "source": []
  }
 ],
 "metadata": {
  "kernelspec": {
   "display_name": "Python 3",
   "language": "python",
   "name": "python3"
  },
  "language_info": {
   "codemirror_mode": {
    "name": "ipython",
    "version": 3
   },
   "file_extension": ".py",
   "mimetype": "text/x-python",
   "name": "python",
   "nbconvert_exporter": "python",
   "pygments_lexer": "ipython3",
   "version": "3.8.11"
  }
 },
 "nbformat": 4,
 "nbformat_minor": 5
}
