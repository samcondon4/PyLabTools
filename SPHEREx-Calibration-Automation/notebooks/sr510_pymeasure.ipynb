{
 "cells": [
  {
   "cell_type": "code",
   "execution_count": 1,
   "id": "2042bbd2",
   "metadata": {},
   "outputs": [],
   "source": [
    "from pymeasure.instruments import Instrument\n",
    "from pymeasure.instruments.validators import truncated_range, truncated_discrete_set"
   ]
  },
  {
   "cell_type": "code",
   "execution_count": 2,
   "id": "eb2a724b",
   "metadata": {},
   "outputs": [],
   "source": [
    "class SR510(Instrument):\n",
    "    \n",
    "    PRE_TIME_CONSTANTS = {1e-3: 1, 3e-3: 2, 10e-3: 3, 30e-3: 4, 100e-3: 5, \n",
    "                          300e-3: 6, 1: 7, 3: 8, 10: 9, 30: 10, 100: 11}\n",
    "    \n",
    "    SENSITIVITIES = {10e-9: 1, 20e-9: 2, 50e-9: 3, 100e-9: 4, 200e-9: 5, 500e-9: 6,\n",
    "                    1e-6: 7, 2e-6: 8, 5e-6: 9, 10e-6: 10, 20e-6: 11, 50e-6: 12, 100e-6: 13,\n",
    "                    200e-6: 14, 500e-6: 15, 1e-3: 16, 2e-3: 17, 5e-3: 18, 10e-3: 19, 20e-3: 20,\n",
    "                    50e-3: 21, 100e-3: 22, 200e-3: 23, 500e-3: 24}\n",
    "    \n",
    "    phase = Instrument.control(\"P\", \"P %g\",\n",
    "        \"\"\"A float property that represents the SR510 reference to input phase offset.\"\"\",\n",
    "        validator=truncated_range,\n",
    "        values=[-999, 999]\n",
    "    )\n",
    "    \n",
    "    pre_time_constant = Instrument.control(\"T1\", \"T1,%d\",\n",
    "        \"\"\"A float property that represents the SR510 PRE filter time constant\"\"\",\n",
    "        validator=truncated_discrete_set,\n",
    "        values=PRE_TIME_CONSTANTS,\n",
    "        map_values=True    \n",
    "    )\n",
    "    \n",
    "    sensitivity = Instrument.control(\"G\", \"G%d\",\n",
    "        \"\"\"A float property that represents the SR510 sensitivity value.\"\"\",\n",
    "        validator=truncated_discrete_set,\n",
    "        values=SENSITIVITIES,\n",
    "        map_values=True\n",
    "    )\n",
    "    \n",
    "    reference_frequency = Instrument.measurement(\"F\",\n",
    "        \"\"\"A float property representing the SR510 input reference frequency\"\"\"\n",
    "    )\n",
    "    \n",
    "    status = Instrument.measurement(\"Y\",\n",
    "        \"\"\"A string property representing the bits set within the SR510 status byte\"\"\",\n",
    "        get_process=lambda s: bin(int(s))[2:] \n",
    "    )\n",
    "    \n",
    "    output = Instrument.measurement(\"Q\", \n",
    "        \"\"\"A float property that represents the SR510 output voltage in Volts.\"\"\"\n",
    "    )\n",
    "    \n",
    "    def __init__(self, resourceName, **kwargs):\n",
    "        super(SR510, self).__init__(\n",
    "            resourceName,\n",
    "            \"Stanford Research Systems SR510 Lock-in amplifier\",\n",
    "            includeSCPI=False,\n",
    "            **kwargs\n",
    "        )\n",
    "        \n",
    "        # set read/write termination #\n",
    "        self.read_termination = \"\\r\"\n",
    "        self.write_termination = \"\\r\"\n",
    "        "
   ]
  },
  {
   "cell_type": "code",
   "execution_count": 3,
   "id": "a8b2f309",
   "metadata": {},
   "outputs": [],
   "source": [
    "sr510 = SR510(\"GPIB0::6::INSTR\")"
   ]
  },
  {
   "cell_type": "code",
   "execution_count": 5,
   "id": "b8dc68af",
   "metadata": {},
   "outputs": [],
   "source": [
    "sr510.pre_time_constant = 0.03"
   ]
  },
  {
   "cell_type": "code",
   "execution_count": null,
   "id": "a963558f",
   "metadata": {},
   "outputs": [],
   "source": []
  }
 ],
 "metadata": {
  "kernelspec": {
   "display_name": "Python 3",
   "language": "python",
   "name": "python3"
  },
  "language_info": {
   "codemirror_mode": {
    "name": "ipython",
    "version": 3
   },
   "file_extension": ".py",
   "mimetype": "text/x-python",
   "name": "python",
   "nbconvert_exporter": "python",
   "pygments_lexer": "ipython3",
   "version": "3.8.11"
  }
 },
 "nbformat": 4,
 "nbformat_minor": 5
}
