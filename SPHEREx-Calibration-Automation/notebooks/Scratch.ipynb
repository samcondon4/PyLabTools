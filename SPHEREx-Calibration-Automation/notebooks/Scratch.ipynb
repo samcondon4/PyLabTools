{
 "cells": [
  {
   "cell_type": "code",
   "execution_count": 2,
   "id": "grateful-affairs",
   "metadata": {},
   "outputs": [],
   "source": [
    "import pyvisa as pv"
   ]
  },
  {
   "cell_type": "code",
   "execution_count": 3,
   "id": "81d90eb8",
   "metadata": {},
   "outputs": [],
   "source": [
    "rm = pv.ResourceManager()"
   ]
  },
  {
   "cell_type": "code",
   "execution_count": 4,
   "id": "aa1ff553",
   "metadata": {},
   "outputs": [
    {
     "data": {
      "text/plain": [
       "('ASRL5::INSTR',\n",
       " 'GPIB0::15::INSTR',\n",
       " 'GPIB0::23::INSTR',\n",
       " 'GPIB0::6::INSTR',\n",
       " 'GPIB0::8::INSTR',\n",
       " 'USB0::0x1313::0x8072::1912998 ::0::INSTR')"
      ]
     },
     "execution_count": 4,
     "metadata": {},
     "output_type": "execute_result"
    }
   ],
   "source": [
    "rm.list_resources()"
   ]
  },
  {
   "cell_type": "code",
   "execution_count": null,
   "id": "c543afab",
   "metadata": {},
   "outputs": [],
   "source": []
  }
 ],
 "metadata": {
  "kernelspec": {
   "display_name": "Python 3",
   "language": "python",
   "name": "python3"
  },
  "language_info": {
   "codemirror_mode": {
    "name": "ipython",
    "version": 3
   },
   "file_extension": ".py",
   "mimetype": "text/x-python",
   "name": "python",
   "nbconvert_exporter": "python",
   "pygments_lexer": "ipython3",
   "version": "3.8.11"
  }
 },
 "nbformat": 4,
 "nbformat_minor": 5
}
