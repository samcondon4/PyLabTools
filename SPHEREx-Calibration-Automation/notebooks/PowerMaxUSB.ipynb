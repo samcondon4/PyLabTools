{
 "cells": [
  {
   "cell_type": "markdown",
   "metadata": {},
   "source": [
    "Import packages"
   ]
  },
  {
   "cell_type": "code",
   "execution_count": 1,
   "metadata": {},
   "outputs": [],
   "source": [
    "import pyvisa\n",
    "import pandas as pd\n",
    "import time, threading"
   ]
  },
  {
   "cell_type": "markdown",
   "metadata": {},
   "source": [
    "Periodic Task Execution Option 1)"
   ]
  },
  {
   "cell_type": "code",
   "execution_count": 2,
   "metadata": {},
   "outputs": [],
   "source": [
    "class RepeatedTimer(object):\n",
    "    def __init__(self, interval, function, *args, **kwargs):\n",
    "        self._timer     = None\n",
    "        self.interval   = interval\n",
    "        self.function   = function\n",
    "        self.args       = args\n",
    "        self.kwargs     = kwargs\n",
    "        self.is_running = False\n",
    "        self.start()\n",
    "\n",
    "    def _run(self):\n",
    "        self.is_running = False\n",
    "        self.start()\n",
    "        self.function(*self.args, **self.kwargs)\n",
    "\n",
    "    def start(self):\n",
    "        if not self.is_running:\n",
    "            self._timer = threading.Timer(self.interval, self._run)\n",
    "            self._timer.start()\n",
    "            self.is_running = True\n",
    "\n",
    "    def stop(self):\n",
    "        self._timer.cancel()\n",
    "        self.is_running = False"
   ]
  },
  {
   "cell_type": "markdown",
   "metadata": {},
   "source": [
    "Open pyVISA Resource(s)"
   ]
  },
  {
   "cell_type": "code",
   "execution_count": 3,
   "metadata": {},
   "outputs": [],
   "source": [
    "error1 = error2 = rectemp = rec_id = powermax = 0\n",
    "recman = pyvisa.ResourceManager()\n",
    "resources = recman.list_resources()\n",
    "for i in resources:\n",
    "    try:\n",
    "        rectemp = recman.open_resource(i)\n",
    "    except Exception as e:\n",
    "        error1 = e\n",
    "    else:\n",
    "        try:\n",
    "            rec_id = rectemp.query('*IDN?')\n",
    "        except Exception as e:\n",
    "            error2 = e\n",
    "        else:\n",
    "            if \"PowerMax USB\" in rec_id:\n",
    "                powermax = rectemp\n",
    "        \n",
    "    "
   ]
  },
  {
   "cell_type": "markdown",
   "metadata": {},
   "source": [
    "Reset Sensor(s)"
   ]
  },
  {
   "cell_type": "code",
   "execution_count": 4,
   "metadata": {},
   "outputs": [
    {
     "data": {
      "text/plain": [
       "'0\\r\\n'"
      ]
     },
     "execution_count": 4,
     "metadata": {},
     "output_type": "execute_result"
    }
   ],
   "source": [
    "powermax.write('ZERO') #set current power measurement as zero reference\n",
    "powermax.write('SYSTem:SYNC') #reset system measurement sync timer (timestamp value)\n",
    "powermax.query('SYSTem:SYNC?') #output timestamp value after reset (ensure this is close to zero)"
   ]
  },
  {
   "cell_type": "markdown",
   "metadata": {},
   "source": [
    "Define Read Function"
   ]
  },
  {
   "cell_type": "code",
   "execution_count": 5,
   "metadata": {},
   "outputs": [],
   "source": [
    "def powermax_read(pwrmax, pdict):\n",
    "    valstr = pwrmax.query('READ?')\n",
    "    valstr = valstr.strip('\\r\\n')\n",
    "    p, f, ts = valstr.split(',')\n",
    "    pdict['Power'].append(float(p))\n",
    "    pdict['Flags'].append(f)\n",
    "    pdict['Timestamp'].append(float(ts))\n",
    "    "
   ]
  },
  {
   "cell_type": "markdown",
   "metadata": {},
   "source": [
    "Read Data every INT seconds for N seconds. "
   ]
  },
  {
   "cell_type": "code",
   "execution_count": 8,
   "metadata": {},
   "outputs": [],
   "source": [
    "N = 10\n",
    "INT = 0.5\n",
    "\n",
    "powermax_data = {\n",
    "    \"Power\": [],\n",
    "    \"Flags\": [],\n",
    "    \"Timestamp\": []\n",
    "}\n",
    "\n",
    "powermax.write('ZERO')\n",
    "powermax.write('SYSTem:SYNC')\n",
    "rt = RepeatedTimer(INT, powermax_read, powermax, powermax_data)\n",
    "time.sleep(N)\n",
    "rt.stop()"
   ]
  },
  {
   "cell_type": "markdown",
   "metadata": {},
   "source": [
    "Convert data from calibration run to dataframe"
   ]
  },
  {
   "cell_type": "code",
   "execution_count": 9,
   "metadata": {},
   "outputs": [
    {
     "data": {
      "text/html": [
       "<div>\n",
       "<style scoped>\n",
       "    .dataframe tbody tr th:only-of-type {\n",
       "        vertical-align: middle;\n",
       "    }\n",
       "\n",
       "    .dataframe tbody tr th {\n",
       "        vertical-align: top;\n",
       "    }\n",
       "\n",
       "    .dataframe thead th {\n",
       "        text-align: right;\n",
       "    }\n",
       "</style>\n",
       "<table border=\"1\" class=\"dataframe\">\n",
       "  <thead>\n",
       "    <tr style=\"text-align: right;\">\n",
       "      <th></th>\n",
       "      <th>Power</th>\n",
       "      <th>Flags</th>\n",
       "      <th>Timestamp</th>\n",
       "    </tr>\n",
       "  </thead>\n",
       "  <tbody>\n",
       "    <tr>\n",
       "      <th>0</th>\n",
       "      <td>1.844620e-05</td>\n",
       "      <td>0</td>\n",
       "      <td>400.0</td>\n",
       "    </tr>\n",
       "    <tr>\n",
       "      <th>1</th>\n",
       "      <td>4.431420e-05</td>\n",
       "      <td>0</td>\n",
       "      <td>900.0</td>\n",
       "    </tr>\n",
       "    <tr>\n",
       "      <th>2</th>\n",
       "      <td>1.966150e-05</td>\n",
       "      <td>0</td>\n",
       "      <td>1400.0</td>\n",
       "    </tr>\n",
       "    <tr>\n",
       "      <th>3</th>\n",
       "      <td>-4.427080e-06</td>\n",
       "      <td>N</td>\n",
       "      <td>1900.0</td>\n",
       "    </tr>\n",
       "    <tr>\n",
       "      <th>4</th>\n",
       "      <td>-9.548610e-06</td>\n",
       "      <td>N</td>\n",
       "      <td>2400.0</td>\n",
       "    </tr>\n",
       "    <tr>\n",
       "      <th>5</th>\n",
       "      <td>1.870660e-05</td>\n",
       "      <td>0</td>\n",
       "      <td>2900.0</td>\n",
       "    </tr>\n",
       "    <tr>\n",
       "      <th>6</th>\n",
       "      <td>6.640630e-06</td>\n",
       "      <td>0</td>\n",
       "      <td>3400.0</td>\n",
       "    </tr>\n",
       "    <tr>\n",
       "      <th>7</th>\n",
       "      <td>1.263020e-05</td>\n",
       "      <td>0</td>\n",
       "      <td>3900.0</td>\n",
       "    </tr>\n",
       "    <tr>\n",
       "      <th>8</th>\n",
       "      <td>4.162330e-05</td>\n",
       "      <td>0</td>\n",
       "      <td>4400.0</td>\n",
       "    </tr>\n",
       "    <tr>\n",
       "      <th>9</th>\n",
       "      <td>3.407120e-05</td>\n",
       "      <td>0</td>\n",
       "      <td>4900.0</td>\n",
       "    </tr>\n",
       "    <tr>\n",
       "      <th>10</th>\n",
       "      <td>5.642360e-07</td>\n",
       "      <td>0</td>\n",
       "      <td>5400.0</td>\n",
       "    </tr>\n",
       "    <tr>\n",
       "      <th>11</th>\n",
       "      <td>-1.197920e-05</td>\n",
       "      <td>N</td>\n",
       "      <td>5900.0</td>\n",
       "    </tr>\n",
       "    <tr>\n",
       "      <th>12</th>\n",
       "      <td>6.553820e-06</td>\n",
       "      <td>0</td>\n",
       "      <td>6400.0</td>\n",
       "    </tr>\n",
       "    <tr>\n",
       "      <th>13</th>\n",
       "      <td>9.418400e-06</td>\n",
       "      <td>0</td>\n",
       "      <td>7000.0</td>\n",
       "    </tr>\n",
       "    <tr>\n",
       "      <th>14</th>\n",
       "      <td>5.685760e-06</td>\n",
       "      <td>0</td>\n",
       "      <td>7500.0</td>\n",
       "    </tr>\n",
       "    <tr>\n",
       "      <th>15</th>\n",
       "      <td>3.745660e-05</td>\n",
       "      <td>0</td>\n",
       "      <td>8000.0</td>\n",
       "    </tr>\n",
       "    <tr>\n",
       "      <th>16</th>\n",
       "      <td>3.884550e-05</td>\n",
       "      <td>0</td>\n",
       "      <td>8500.0</td>\n",
       "    </tr>\n",
       "    <tr>\n",
       "      <th>17</th>\n",
       "      <td>1.158850e-05</td>\n",
       "      <td>0</td>\n",
       "      <td>9000.0</td>\n",
       "    </tr>\n",
       "    <tr>\n",
       "      <th>18</th>\n",
       "      <td>-1.197920e-05</td>\n",
       "      <td>N</td>\n",
       "      <td>9500.0</td>\n",
       "    </tr>\n",
       "  </tbody>\n",
       "</table>\n",
       "</div>"
      ],
      "text/plain": [
       "           Power Flags  Timestamp\n",
       "0   1.844620e-05     0      400.0\n",
       "1   4.431420e-05     0      900.0\n",
       "2   1.966150e-05     0     1400.0\n",
       "3  -4.427080e-06     N     1900.0\n",
       "4  -9.548610e-06     N     2400.0\n",
       "5   1.870660e-05     0     2900.0\n",
       "6   6.640630e-06     0     3400.0\n",
       "7   1.263020e-05     0     3900.0\n",
       "8   4.162330e-05     0     4400.0\n",
       "9   3.407120e-05     0     4900.0\n",
       "10  5.642360e-07     0     5400.0\n",
       "11 -1.197920e-05     N     5900.0\n",
       "12  6.553820e-06     0     6400.0\n",
       "13  9.418400e-06     0     7000.0\n",
       "14  5.685760e-06     0     7500.0\n",
       "15  3.745660e-05     0     8000.0\n",
       "16  3.884550e-05     0     8500.0\n",
       "17  1.158850e-05     0     9000.0\n",
       "18 -1.197920e-05     N     9500.0"
      ]
     },
     "execution_count": 9,
     "metadata": {},
     "output_type": "execute_result"
    }
   ],
   "source": [
    "pwrmax_df = pd.DataFrame(powermax_data)\n",
    "pwrmax_df"
   ]
  }
 ],
 "metadata": {
  "kernelspec": {
   "display_name": "Python 3",
   "language": "python",
   "name": "python3"
  },
  "language_info": {
   "codemirror_mode": {
    "name": "ipython",
    "version": 3
   },
   "file_extension": ".py",
   "mimetype": "text/x-python",
   "name": "python",
   "nbconvert_exporter": "python",
   "pygments_lexer": "ipython3",
   "version": "3.8.5"
  }
 },
 "nbformat": 4,
 "nbformat_minor": 4
}
