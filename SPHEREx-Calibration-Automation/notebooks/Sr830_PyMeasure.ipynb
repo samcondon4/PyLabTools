{
 "cells": [
  {
   "cell_type": "code",
   "execution_count": 1,
   "id": "25a07bf2",
   "metadata": {},
   "outputs": [],
   "source": [
    "from pymeasure.instruments.srs import SR830"
   ]
  },
  {
   "cell_type": "code",
   "execution_count": 2,
   "id": "f3405ef7",
   "metadata": {},
   "outputs": [
    {
     "ename": "AttributeError",
     "evalue": "type object 'SR830' has no attribute 'property_dict'",
     "output_type": "error",
     "traceback": [
      "\u001b[1;31m---------------------------------------------------------------------------\u001b[0m",
      "\u001b[1;31mAttributeError\u001b[0m                            Traceback (most recent call last)",
      "\u001b[1;32m~\\AppData\\Local\\Temp/ipykernel_3244/3796255683.py\u001b[0m in \u001b[0;36m<module>\u001b[1;34m\u001b[0m\n\u001b[1;32m----> 1\u001b[1;33m \u001b[0msr830\u001b[0m \u001b[1;33m=\u001b[0m \u001b[0mSR830\u001b[0m\u001b[1;33m(\u001b[0m\u001b[1;34m\"GPIB0::8::INSTR\"\u001b[0m\u001b[1;33m)\u001b[0m\u001b[1;33m\u001b[0m\u001b[1;33m\u001b[0m\u001b[0m\n\u001b[0m",
      "\u001b[1;32mc:\\users\\thoma\\documents\\github\\spherex-lab-tools\\spherex-calibration-automation\\pymeasure\\pymeasure\\instruments\\srs\\sr830.py\u001b[0m in \u001b[0;36m__init__\u001b[1;34m(self, resourceName, **kwargs)\u001b[0m\n\u001b[0;32m    283\u001b[0m             \u001b[1;33m**\u001b[0m\u001b[0mkwargs\u001b[0m\u001b[1;33m\u001b[0m\u001b[1;33m\u001b[0m\u001b[0m\n\u001b[0;32m    284\u001b[0m         )\n\u001b[1;32m--> 285\u001b[1;33m         \u001b[0mSR830\u001b[0m\u001b[1;33m.\u001b[0m\u001b[0mconfigure_properties\u001b[0m\u001b[1;33m(\u001b[0m\u001b[1;33m)\u001b[0m\u001b[1;33m\u001b[0m\u001b[1;33m\u001b[0m\u001b[0m\n\u001b[0m\u001b[0;32m    286\u001b[0m \u001b[1;33m\u001b[0m\u001b[0m\n\u001b[0;32m    287\u001b[0m     \u001b[1;32mdef\u001b[0m \u001b[0mauto_gain\u001b[0m\u001b[1;33m(\u001b[0m\u001b[0mself\u001b[0m\u001b[1;33m)\u001b[0m\u001b[1;33m:\u001b[0m\u001b[1;33m\u001b[0m\u001b[1;33m\u001b[0m\u001b[0m\n",
      "\u001b[1;32mc:\\users\\thoma\\documents\\github\\spherex-lab-tools\\spherex-calibration-automation\\pymeasure\\pymeasure\\instruments\\srs\\sr830.py\u001b[0m in \u001b[0;36mconfigure_properties\u001b[1;34m(cls)\u001b[0m\n\u001b[0;32m     71\u001b[0m             \u001b[0mvalues\u001b[0m\u001b[1;33m=\u001b[0m\u001b[1;33m[\u001b[0m\u001b[1;36m0.004\u001b[0m\u001b[1;33m,\u001b[0m \u001b[1;36m5.0\u001b[0m\u001b[1;33m]\u001b[0m\u001b[1;33m\u001b[0m\u001b[1;33m\u001b[0m\u001b[0m\n\u001b[0;32m     72\u001b[0m         )\n\u001b[1;32m---> 73\u001b[1;33m         cls.frequency = Instrument.control(\n\u001b[0m\u001b[0;32m     74\u001b[0m             \u001b[1;34m\"FREQ?\"\u001b[0m\u001b[1;33m,\u001b[0m \u001b[1;34m\"FREQ%0.5e\"\u001b[0m\u001b[1;33m,\u001b[0m\u001b[1;33m\u001b[0m\u001b[1;33m\u001b[0m\u001b[0m\n\u001b[0;32m     75\u001b[0m             \"\"\" A floating point property that represents the lock-in frequency\n",
      "\u001b[1;32mc:\\users\\thoma\\documents\\github\\spherex-lab-tools\\spherex-calibration-automation\\pymeasure\\pymeasure\\instruments\\instrument.py\u001b[0m in \u001b[0;36mcontrol\u001b[1;34m(get_command, set_command, docs, validator, values, map_values, get_process, set_process, check_set_errors, check_get_errors, property_name, inst_instance, **kwargs)\u001b[0m\n\u001b[0;32m    227\u001b[0m         \u001b[1;32mif\u001b[0m \u001b[0minst_instance\u001b[0m \u001b[1;32mis\u001b[0m \u001b[1;32mnot\u001b[0m \u001b[1;32mNone\u001b[0m\u001b[1;33m:\u001b[0m\u001b[1;33m\u001b[0m\u001b[1;33m\u001b[0m\u001b[0m\n\u001b[0;32m    228\u001b[0m             \u001b[0mprop_name\u001b[0m \u001b[1;33m=\u001b[0m \u001b[0mproperty_name\u001b[0m \u001b[1;32mif\u001b[0m \u001b[0mproperty_name\u001b[0m \u001b[1;32mis\u001b[0m \u001b[1;32mnot\u001b[0m \u001b[1;32mNone\u001b[0m \u001b[1;32melse\u001b[0m \u001b[0mget_command\u001b[0m\u001b[1;33m\u001b[0m\u001b[1;33m\u001b[0m\u001b[0m\n\u001b[1;32m--> 229\u001b[1;33m             \u001b[0minst_instance\u001b[0m\u001b[1;33m.\u001b[0m\u001b[0mproperty_dict\u001b[0m\u001b[1;33m[\u001b[0m\u001b[0mprop_name\u001b[0m\u001b[1;33m]\u001b[0m \u001b[1;33m=\u001b[0m \u001b[0mprop\u001b[0m\u001b[1;33m\u001b[0m\u001b[1;33m\u001b[0m\u001b[0m\n\u001b[0m\u001b[0;32m    230\u001b[0m         \u001b[1;32mreturn\u001b[0m \u001b[0mprop\u001b[0m\u001b[1;33m\u001b[0m\u001b[1;33m\u001b[0m\u001b[0m\n\u001b[0;32m    231\u001b[0m \u001b[1;33m\u001b[0m\u001b[0m\n",
      "\u001b[1;31mAttributeError\u001b[0m: type object 'SR830' has no attribute 'property_dict'"
     ]
    }
   ],
   "source": [
    "sr830 = SR830(\"GPIB0::8::INSTR\")"
   ]
  },
  {
   "cell_type": "code",
   "execution_count": null,
   "id": "cb54457b",
   "metadata": {},
   "outputs": [],
   "source": [
    "sr830.property_dict"
   ]
  },
  {
   "cell_type": "code",
   "execution_count": null,
   "id": "ae9e76f4",
   "metadata": {},
   "outputs": [],
   "source": [
    "sr830.sensitivity"
   ]
  },
  {
   "cell_type": "code",
   "execution_count": null,
   "id": "2780609a",
   "metadata": {},
   "outputs": [],
   "source": [
    "sr830.time_constant"
   ]
  },
  {
   "cell_type": "code",
   "execution_count": null,
   "id": "66eb5c99",
   "metadata": {},
   "outputs": [],
   "source": [
    "sr830.auto_phase()"
   ]
  },
  {
   "cell_type": "code",
   "execution_count": null,
   "id": "57a2b7aa",
   "metadata": {},
   "outputs": [],
   "source": []
  }
 ],
 "metadata": {
  "kernelspec": {
   "display_name": "Python 3 (ipykernel)",
   "language": "python",
   "name": "python3"
  },
  "language_info": {
   "codemirror_mode": {
    "name": "ipython",
    "version": 3
   },
   "file_extension": ".py",
   "mimetype": "text/x-python",
   "name": "python",
   "nbconvert_exporter": "python",
   "pygments_lexer": "ipython3",
   "version": "3.8.8"
  }
 },
 "nbformat": 4,
 "nbformat_minor": 5
}
