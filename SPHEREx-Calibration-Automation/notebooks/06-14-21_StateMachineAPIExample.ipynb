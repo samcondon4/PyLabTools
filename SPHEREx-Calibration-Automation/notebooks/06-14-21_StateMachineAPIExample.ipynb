{
 "cells": [
  {
   "cell_type": "markdown",
   "id": "focal-replica",
   "metadata": {},
   "source": [
    "# Pylablibsm API Example:\n",
    "\n",
    "This file provides an example of using the calibration automation state-machine API\n",
    "\n",
    "Sam Condon \\\n",
    "Caltech \\\n",
    "06/14/2021"
   ]
  },
  {
   "cell_type": "code",
   "execution_count": 2,
   "id": "political-express",
   "metadata": {},
   "outputs": [],
   "source": [
    "import sys\n",
    "import numpy as np\n",
    "from inspect import signature\n",
    "sys.path.append(r'..\\\\pylab\\\\')\n",
    "from statemachine import State, StateMachine\n",
    "\n",
    "from pylablib.pylablibsm import SM"
   ]
  },
  {
   "cell_type": "markdown",
   "id": "varying-finger",
   "metadata": {},
   "source": [
    "## Actions\n",
    "\n",
    "The state machine on its own does not execute any useful code. It simply provides a framework through which \n",
    "instrument control code can plug in through what is termed an 'action.' **An action is a collection of two pieces of data:**\n",
    "\n",
    "*1) Function pointer* \\\n",
    "*2) Identifier string*\n",
    "\n",
    "When actions are added to the state-machine, we pass both of the above pieces of information to the **\\<state_machine_object\\>.add_action_to_state()** method. Actions must be assigned to an individual state-machine state, so we also pass in a string to identify which state the action should execute within. Overall the call signature for the add_action() method is as follows:\n",
    "\n",
    "*\\<state_machine_object\\>.add_action_to_state(\\<state identifier string\\>, \\<action identifier string\\>, \\<action function pointer\\>)*\n",
    "\n",
    "All actions must accept a single positional argument. In the example actions below, this argument has been called 'action_dict.' When an action is called within the state-machine, it is passed a dictionary through the action_dict argument. This dictionary takes the following form:\n",
    "\n",
    "action_dict = {'state_machine': \\<state machine instance object\\>, 'params': \\<action parameters\\>}\n",
    "\n",
    "The state machine instance object can be used to control the state machine within actions while the action parameters define any arguments that the action needs to operate.\n"
   ]
  },
  {
   "cell_type": "code",
   "execution_count": 3,
   "id": "nearby-coast",
   "metadata": {},
   "outputs": [],
   "source": [
    "def init_action(action_dict):\n",
    "    print(\"This is the function that initializes communication interfaces with all instruments.\")\n",
    "\n",
    "def waiting_action(action_dict):    \n",
    "    print(\"Here we are waiting for user input.\")\n",
    "    print(\"*Query instruments for lost connections*\")\n",
    "\n",
    "def thinking_action(action_dict):\n",
    "    print(\"This is the thinking action that generates the control loop parameters based on user input\")    \n",
    "\n",
    "def moving_action(action_dict):\n",
    "    print(\"This is the moving action that moves all instruments into position for a measurement.\")\n",
    "    action_dict['state_machine'].control_loop_next()\n",
    "    \n",
    "def measuring_action(action_dict):\n",
    "    print(\"This is the measuring action that reads all raw data.\")\n",
    "    action_dict['state_machine'].control_loop_next()\n",
    "    \n",
    "def checking_action(action_dict):\n",
    "    print(\"This is the checking action to perform initial validation of raw data.\")\n",
    "    action_dict['state_machine'].control_loop_next()\n",
    "    \n",
    "def compressing_action(action_dict):\n",
    "    print(\"This is the compressing action that compresses raw data before storage on the server.\")\n",
    "    action_dict['state_machine'].control_loop_next()\n",
    "    \n",
    "def writing_action(action_dict):\n",
    "    print(\"This is the writing action that writes the compressed data to the server.\")\n",
    "    action_dict['state_machine'].control_loop_next()\n",
    "    \n",
    "def resetting_action(action_dict):\n",
    "    print(\"This is the resetting action that resets all instruments to idle states.\")\n",
    "    print(\"Control loop complete!\")\n",
    "    action_dict['state_machine'].control_loop_complete()\n",
    "    "
   ]
  },
  {
   "cell_type": "markdown",
   "id": "legitimate-picnic",
   "metadata": {},
   "source": [
    "#### Add all actions to the state machine using the call signature indicated in the comments above:"
   ]
  },
  {
   "cell_type": "code",
   "execution_count": 4,
   "id": "finished-indiana",
   "metadata": {},
   "outputs": [],
   "source": [
    "#instantiate state machine\n",
    "state_machine = SM()\n",
    "\n",
    "# Add all desired actions to the state-machine###########################\n",
    "state_machine.add_action_to_state('Initializing', 'init_action_0', init_action)\n",
    "state_machine.add_action_to_state('Waiting', 'waiting_action_0', waiting_action)\n",
    "state_machine.add_action_to_state('Thinking', 'thinking_action_0', thinking_action)\n",
    "state_machine.add_action_to_state('Moving', 'moving_action_0', moving_action)\n",
    "state_machine.add_action_to_state('Measuring', 'measuring_action_0', measuring_action)\n",
    "state_machine.add_action_to_state('Checking', 'checking_action_0', checking_action)\n",
    "state_machine.add_action_to_state('Compressing', 'compressing_action_0', compressing_action)\n",
    "state_machine.add_action_to_state('Writing', 'writing_action_0', writing_action)\n",
    "state_machine.add_action_to_state('Resetting', 'resetting_action_0', resetting_action)\n",
    "\n"
   ]
  },
  {
   "cell_type": "markdown",
   "id": "documented-hearts",
   "metadata": {},
   "source": [
    "#### Start the state-machine by sending it into the Initializing state:\n",
    "Note that any actions added above to the Initializing state will be executed after the state machine is started"
   ]
  },
  {
   "cell_type": "code",
   "execution_count": 5,
   "id": "bottom-decade",
   "metadata": {},
   "outputs": [
    {
     "name": "stdout",
     "output_type": "stream",
     "text": [
      "Initializing\n",
      "This is the function that initializes communication interfaces with all instruments.\n"
     ]
    }
   ],
   "source": [
    "state_machine.start_machine()"
   ]
  },
  {
   "cell_type": "code",
   "execution_count": 6,
   "id": "other-scott",
   "metadata": {},
   "outputs": [
    {
     "name": "stdout",
     "output_type": "stream",
     "text": [
      "Waiting\n"
     ]
    },
    {
     "data": {
      "text/plain": [
       "True"
      ]
     },
     "execution_count": 6,
     "metadata": {},
     "output_type": "execute_result"
    },
    {
     "name": "stdout",
     "output_type": "stream",
     "text": [
      "Here we are waiting for user input.\n",
      "*Query instruments for lost connections*\n"
     ]
    }
   ],
   "source": [
    "state_machine.init_to_wait()"
   ]
  },
  {
   "cell_type": "code",
   "execution_count": 7,
   "id": "necessary-yukon",
   "metadata": {},
   "outputs": [
    {
     "name": "stdout",
     "output_type": "stream",
     "text": [
      "Thinking\n"
     ]
    },
    {
     "data": {
      "text/plain": [
       "True"
      ]
     },
     "execution_count": 7,
     "metadata": {},
     "output_type": "execute_result"
    },
    {
     "name": "stdout",
     "output_type": "stream",
     "text": [
      "This is the thinking action that generates the control loop parameters based on user input\n"
     ]
    }
   ],
   "source": [
    "state_machine.wait_to_think()"
   ]
  },
  {
   "cell_type": "code",
   "execution_count": 8,
   "id": "sunset-still",
   "metadata": {},
   "outputs": [
    {
     "name": "stdout",
     "output_type": "stream",
     "text": [
      "Moving\n"
     ]
    },
    {
     "data": {
      "text/plain": [
       "True"
      ]
     },
     "execution_count": 8,
     "metadata": {},
     "output_type": "execute_result"
    },
    {
     "name": "stdout",
     "output_type": "stream",
     "text": [
      "This is the moving action that moves all instruments into position for a measurement.\n",
      "Measuring\n",
      "This is the measuring action that reads all raw data.\n",
      "Checking\n",
      "This is the checking action to perform initial validation of raw data.\n",
      "Compressing\n",
      "This is the compressing action that compresses raw data before storage on the server.\n",
      "Writing\n",
      "This is the writing action that writes the compressed data to the server.\n",
      "Resetting\n",
      "This is the resetting action that resets all instruments to idle states.\n",
      "Control loop complete!\n",
      "Waiting\n",
      "Here we are waiting for user input.\n",
      "*Query instruments for lost connections*\n"
     ]
    }
   ],
   "source": [
    "state_machine.start_control_loop()"
   ]
  }
 ],
 "metadata": {
  "kernelspec": {
   "display_name": "Python 3",
   "language": "python",
   "name": "python3"
  },
  "language_info": {
   "codemirror_mode": {
    "name": "ipython",
    "version": 3
   },
   "file_extension": ".py",
   "mimetype": "text/x-python",
   "name": "python",
   "nbconvert_exporter": "python",
   "pygments_lexer": "ipython3",
   "version": "3.8.8"
  }
 },
 "nbformat": 4,
 "nbformat_minor": 5
}
