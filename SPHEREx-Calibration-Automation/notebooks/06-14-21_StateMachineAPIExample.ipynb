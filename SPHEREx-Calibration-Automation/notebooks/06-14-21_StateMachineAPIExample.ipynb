{
 "cells": [
  {
   "cell_type": "markdown",
   "id": "focal-replica",
   "metadata": {},
   "source": [
    "# Pylablibsm API Example:\n",
    "\n",
    "This file provides an example of using the calibration automation state-machine API\n",
    "\n",
    "Sam Condon \\\n",
    "Caltech \\\n",
    "06/14/2021"
   ]
  },
  {
   "cell_type": "code",
   "execution_count": 1,
   "id": "political-express",
   "metadata": {},
   "outputs": [],
   "source": [
    "import sys\n",
    "import numpy as np\n",
    "from inspect import signature\n",
    "sys.path.append(r'..\\\\pylab\\\\')\n",
    "from statemachine import State, StateMachine\n",
    "\n",
    "from pylablib.pylablibsm import SM"
   ]
  },
  {
   "cell_type": "markdown",
   "id": "varying-finger",
   "metadata": {},
   "source": [
    "## Actions\n",
    "\n",
    "The state machine on its own does not execute any useful code. It simply provides a framework through which \n",
    "instrument control code can plug in through what is termed an 'action.' **An action is a collection of two pieces of data:**\n",
    "\n",
    "*1) Function pointer* \\\n",
    "*2) Identifier string*\n",
    "\n",
    "When actions are added to the state-machine, we pass both of the above pieces of information to the **\\<state_machine_object\\>.add_action_to_state()** method. Actions must be assigned to an individual state-machine state, so we also pass in a string to identify which state the action should execute within. Overall the call signature for the add_action() method is as follows:\n",
    "\n",
    "*\\<state_machine_object\\>.add_action_to_state(\\<state identifier string\\>, \\<action identifier string\\>, \\<action function pointer\\>)*\n",
    "\n",
    "All actions must accept a single positional argument. In the example actions below, this argument has been called 'action_dict.' When an action is called within the state-machine, it is passed a dictionary through the action_dict argument. This dictionary takes the following form:\n",
    "\n",
    "action_dict = {'state_machine': \\<state machine instance object\\>, 'params': \\<action parameters\\>}\n",
    "\n",
    "The 'state_machine' key gives access to the state-machine instance object allowing actions to trigger state transitions. The 'params' key gives access to any parameters previously passed in to the action.\n"
   ]
  },
  {
   "cell_type": "code",
   "execution_count": 2,
   "id": "nearby-coast",
   "metadata": {},
   "outputs": [],
   "source": [
    "def init_action(action_dict):\n",
    "    print(\"This is the function that initializes communication interfaces with all instruments.\")\n",
    "\n",
    "def waiting_action(action_dict):    \n",
    "    print(\"Here we are waiting for user input.\")\n",
    "    print(\"*Query instruments for lost connections*\")\n",
    "\n",
    "def thinking_action(action_dict):\n",
    "    print(\"This is the thinking action that generates the control loop parameters based on user input\")\n",
    "    \n",
    "    params = action_dict['params']\n",
    "    \n",
    "    waves = np.arange(params['start_wavelength'], params['stop_wavelength'], \n",
    "                      params['step_size'])\n",
    "    \n",
    "    return waves\n",
    "\n",
    "\n",
    "class ControlLoopActions:\n",
    "    \n",
    "    def __init__(self):\n",
    "        self.waves = None\n",
    "        self.waves_ind = 0\n",
    "        self.control_loop_complete = False       \n",
    "    \n",
    "    def set_waves(self, waves):\n",
    "        self.waves = waves\n",
    "    \n",
    "    def moving_action(self, action_dict):\n",
    "        print(\"Moving monochromator to wavelength: {} um.\".format(self.waves[self.waves_ind]))\n",
    "        self.waves_ind += 1\n",
    "        if not self.waves_ind < len(self.waves):\n",
    "            self.control_loop_complete = True\n",
    "        action_dict['state_machine'].control_loop_next()\n",
    "    \n",
    "    def measuring_action(self, action_dict):\n",
    "        print(\"*Take an exposure*\")\n",
    "        action_dict['state_machine'].control_loop_next()\n",
    "\n",
    "    def checking_action(self, action_dict):\n",
    "        print(\"*Check exposure pixel data*\")\n",
    "        action_dict['state_machine'].control_loop_next()\n",
    "\n",
    "    def compressing_action(self, action_dict):\n",
    "        print(\"*Compress pixel data*\")\n",
    "        action_dict['state_machine'].control_loop_next()\n",
    "\n",
    "    def writing_action(self, action_dict):\n",
    "        print(\"*Write compressed data to server*\")\n",
    "        action_dict['state_machine'].control_loop_next()\n",
    "\n",
    "    def resetting_action(self, action_dict):\n",
    "        print(\"*Reset detector, close monochromator shutter*\")\n",
    "        print(\"\\n\")\n",
    "        if self.control_loop_complete == True:\n",
    "            print(\"Control loop complete!\")\n",
    "            action_dict['state_machine'].control_loop_complete()\n",
    "        else:\n",
    "            action_dict['state_machine'].control_loop_next()\n",
    "         \n"
   ]
  },
  {
   "cell_type": "markdown",
   "id": "legitimate-picnic",
   "metadata": {},
   "source": [
    "#### Add all actions to the state machine using the call signature indicated in the comments above:"
   ]
  },
  {
   "cell_type": "code",
   "execution_count": 3,
   "id": "finished-indiana",
   "metadata": {},
   "outputs": [],
   "source": [
    "#instantiate state machine\n",
    "state_machine = SM()\n",
    "\n",
    "control_loop = ControlLoopActions()\n",
    "\n",
    "# Add all desired actions to the state-machine###########################\n",
    "state_machine.add_action_to_state('Initializing', 'init_action_0', init_action)\n",
    "state_machine.add_action_to_state('Waiting', 'waiting_action_0', waiting_action)\n",
    "state_machine.add_action_to_state('Thinking', 'thinking_action_0', thinking_action)\n",
    "state_machine.add_action_to_state('Moving', 'moving_action_0', control_loop.moving_action)\n",
    "state_machine.add_action_to_state('Measuring', 'measuring_action_0', control_loop.measuring_action)\n",
    "state_machine.add_action_to_state('Checking', 'checking_action_0', control_loop.checking_action)\n",
    "state_machine.add_action_to_state('Compressing', 'compressing_action_0', control_loop.compressing_action)\n",
    "state_machine.add_action_to_state('Writing', 'writing_action_0', control_loop.writing_action)\n",
    "state_machine.add_action_to_state('Resetting', 'resetting_action_0', control_loop.resetting_action)\n",
    "\n"
   ]
  },
  {
   "cell_type": "markdown",
   "id": "documented-hearts",
   "metadata": {},
   "source": [
    "#### Start the state-machine by sending it into the Initializing state:\n",
    "Note that any actions added above to the Initializing state will be executed after the state machine is started"
   ]
  },
  {
   "cell_type": "code",
   "execution_count": 4,
   "id": "charitable-company",
   "metadata": {},
   "outputs": [
    {
     "name": "stdout",
     "output_type": "stream",
     "text": [
      "Initializing\n",
      "This is the function that initializes communication interfaces with all instruments.\n"
     ]
    }
   ],
   "source": [
    "state_machine.start_machine()"
   ]
  },
  {
   "cell_type": "markdown",
   "id": "narrow-estate",
   "metadata": {},
   "source": [
    "#### After Initializing, enter the waiting state:"
   ]
  },
  {
   "cell_type": "code",
   "execution_count": 5,
   "id": "sealed-commerce",
   "metadata": {},
   "outputs": [
    {
     "name": "stdout",
     "output_type": "stream",
     "text": [
      "Waiting\n"
     ]
    },
    {
     "data": {
      "text/plain": [
       "True"
      ]
     },
     "execution_count": 5,
     "metadata": {},
     "output_type": "execute_result"
    },
    {
     "name": "stdout",
     "output_type": "stream",
     "text": [
      "Here we are waiting for user input.\n",
      "*Query instruments for lost connections*\n"
     ]
    }
   ],
   "source": [
    "state_machine.init_to_wait()"
   ]
  },
  {
   "cell_type": "markdown",
   "id": "angry-decline",
   "metadata": {},
   "source": [
    "#### Now assume that the waves_dict dictionary are parameters input from a user. Pass these to the thinking action, then move from the waiting to thinking state:"
   ]
  },
  {
   "cell_type": "code",
   "execution_count": 6,
   "id": "piano-infrastructure",
   "metadata": {},
   "outputs": [
    {
     "name": "stdout",
     "output_type": "stream",
     "text": [
      "Thinking\n"
     ]
    },
    {
     "data": {
      "text/plain": [
       "True"
      ]
     },
     "execution_count": 6,
     "metadata": {},
     "output_type": "execute_result"
    },
    {
     "name": "stdout",
     "output_type": "stream",
     "text": [
      "This is the thinking action that generates the control loop parameters based on user input\n"
     ]
    }
   ],
   "source": [
    "waves_dict = {'start_wavelength': 0.7, 'stop_wavelength': 1.5, 'step_size': 0.1}\n",
    "state_machine.set_action_parameters('Thinking', 'thinking_action_0', waves_dict)\n",
    "\n",
    "state_machine.wait_to_think()"
   ]
  },
  {
   "cell_type": "markdown",
   "id": "wired-arkansas",
   "metadata": {},
   "source": [
    "#### The thinking action that we defined generates a numpy array with wavelength values used to specify the behavior of the control loop. Get this returned data and pass it to the control loop:"
   ]
  },
  {
   "cell_type": "code",
   "execution_count": 7,
   "id": "proved-jewelry",
   "metadata": {},
   "outputs": [],
   "source": [
    "waves = state_machine.get_state_action_data('Thinking')['thinking_action_0']\n",
    "control_loop.set_waves(waves)"
   ]
  },
  {
   "cell_type": "markdown",
   "id": "cardiac-martial",
   "metadata": {},
   "source": [
    "#### Now that the parameters of the control loop have been set, start the control loop:"
   ]
  },
  {
   "cell_type": "code",
   "execution_count": 8,
   "id": "spatial-prize",
   "metadata": {
    "scrolled": false
   },
   "outputs": [
    {
     "name": "stdout",
     "output_type": "stream",
     "text": [
      "Moving\n"
     ]
    },
    {
     "data": {
      "text/plain": [
       "True"
      ]
     },
     "execution_count": 8,
     "metadata": {},
     "output_type": "execute_result"
    },
    {
     "name": "stdout",
     "output_type": "stream",
     "text": [
      "Moving monochromator to wavelength: 0.7 um.\n",
      "Measuring\n",
      "*Take an exposure*\n",
      "Checking\n",
      "*Check exposure pixel data*\n",
      "Compressing\n",
      "*Compress pixel data*\n",
      "Writing\n",
      "*Write compressed data to server*\n",
      "Resetting\n",
      "*Reset detector, close monochromator shutter*\n",
      "\n",
      "\n",
      "Moving\n",
      "Moving monochromator to wavelength: 0.7999999999999999 um.\n",
      "Measuring\n",
      "*Take an exposure*\n",
      "Checking\n",
      "*Check exposure pixel data*\n",
      "Compressing\n",
      "*Compress pixel data*\n",
      "Writing\n",
      "*Write compressed data to server*\n",
      "Resetting\n",
      "*Reset detector, close monochromator shutter*\n",
      "\n",
      "\n",
      "Moving\n",
      "Moving monochromator to wavelength: 0.8999999999999999 um.\n",
      "Measuring\n",
      "*Take an exposure*\n",
      "Checking\n",
      "*Check exposure pixel data*\n",
      "Compressing\n",
      "*Compress pixel data*\n",
      "Writing\n",
      "*Write compressed data to server*\n",
      "Resetting\n",
      "*Reset detector, close monochromator shutter*\n",
      "\n",
      "\n",
      "Moving\n",
      "Moving monochromator to wavelength: 0.9999999999999999 um.\n",
      "Measuring\n",
      "*Take an exposure*\n",
      "Checking\n",
      "*Check exposure pixel data*\n",
      "Compressing\n",
      "*Compress pixel data*\n",
      "Writing\n",
      "*Write compressed data to server*\n",
      "Resetting\n",
      "*Reset detector, close monochromator shutter*\n",
      "\n",
      "\n",
      "Moving\n",
      "Moving monochromator to wavelength: 1.0999999999999999 um.\n",
      "Measuring\n",
      "*Take an exposure*\n",
      "Checking\n",
      "*Check exposure pixel data*\n",
      "Compressing\n",
      "*Compress pixel data*\n",
      "Writing\n",
      "*Write compressed data to server*\n",
      "Resetting\n",
      "*Reset detector, close monochromator shutter*\n",
      "\n",
      "\n",
      "Moving\n",
      "Moving monochromator to wavelength: 1.1999999999999997 um.\n",
      "Measuring\n",
      "*Take an exposure*\n",
      "Checking\n",
      "*Check exposure pixel data*\n",
      "Compressing\n",
      "*Compress pixel data*\n",
      "Writing\n",
      "*Write compressed data to server*\n",
      "Resetting\n",
      "*Reset detector, close monochromator shutter*\n",
      "\n",
      "\n",
      "Moving\n",
      "Moving monochromator to wavelength: 1.2999999999999998 um.\n",
      "Measuring\n",
      "*Take an exposure*\n",
      "Checking\n",
      "*Check exposure pixel data*\n",
      "Compressing\n",
      "*Compress pixel data*\n",
      "Writing\n",
      "*Write compressed data to server*\n",
      "Resetting\n",
      "*Reset detector, close monochromator shutter*\n",
      "\n",
      "\n",
      "Moving\n",
      "Moving monochromator to wavelength: 1.4 um.\n",
      "Measuring\n",
      "*Take an exposure*\n",
      "Checking\n",
      "*Check exposure pixel data*\n",
      "Compressing\n",
      "*Compress pixel data*\n",
      "Writing\n",
      "*Write compressed data to server*\n",
      "Resetting\n",
      "*Reset detector, close monochromator shutter*\n",
      "\n",
      "\n",
      "Control loop complete!\n",
      "Waiting\n",
      "Here we are waiting for user input.\n",
      "*Query instruments for lost connections*\n"
     ]
    }
   ],
   "source": [
    "state_machine.start_control_loop()"
   ]
  }
 ],
 "metadata": {
  "kernelspec": {
   "display_name": "Python 3",
   "language": "python",
   "name": "python3"
  },
  "language_info": {
   "codemirror_mode": {
    "name": "ipython",
    "version": 3
   },
   "file_extension": ".py",
   "mimetype": "text/x-python",
   "name": "python",
   "nbconvert_exporter": "python",
   "pygments_lexer": "ipython3",
   "version": "3.8.8"
  }
 },
 "nbformat": 4,
 "nbformat_minor": 5
}
