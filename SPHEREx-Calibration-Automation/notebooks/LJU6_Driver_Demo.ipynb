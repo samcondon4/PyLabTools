{
 "cells": [
  {
   "cell_type": "code",
   "execution_count": 5,
   "id": "closing-wellington",
   "metadata": {},
   "outputs": [],
   "source": [
    "import numpy as np\n",
    "import asyncio\n",
    "import sys\n",
    "sys.path.append(\"..\\\\pylab\")\n",
    "\n",
    "from pylablib.instruments.labjacku6 import Labjack"
   ]
  },
  {
   "cell_type": "code",
   "execution_count": 2,
   "id": "threatened-customer",
   "metadata": {},
   "outputs": [],
   "source": [
    "lj = Labjack()\n",
    "lj.open()"
   ]
  },
  {
   "cell_type": "code",
   "execution_count": 7,
   "id": "developing-degree",
   "metadata": {},
   "outputs": [
    {
     "data": {
      "text/plain": [
       "{'dio': {0: 0,\n",
       "  1: 0,\n",
       "  2: 1,\n",
       "  3: 1,\n",
       "  4: 1,\n",
       "  5: 1,\n",
       "  6: 1,\n",
       "  7: 1,\n",
       "  8: 1,\n",
       "  9: 1,\n",
       "  10: 1,\n",
       "  11: 1,\n",
       "  12: 1,\n",
       "  13: 1,\n",
       "  14: 1,\n",
       "  15: 1,\n",
       "  16: 1,\n",
       "  17: 1,\n",
       "  18: 1,\n",
       "  19: 1,\n",
       "  20: 0,\n",
       "  21: 0,\n",
       "  22: 1}}"
      ]
     },
     "execution_count": 7,
     "metadata": {},
     "output_type": "execute_result"
    }
   ],
   "source": [
    "lj.get_parameters(\"dio\")"
   ]
  },
  {
   "cell_type": "code",
   "execution_count": 6,
   "id": "behind-tender",
   "metadata": {},
   "outputs": [],
   "source": [
    "await lj.set_parameters({\"dio\": {0: 0, 1: 0}})"
   ]
  },
  {
   "cell_type": "code",
   "execution_count": 9,
   "id": "alien-harassment",
   "metadata": {},
   "outputs": [],
   "source": [
    "lj.set_dio({0: 1, 1: 0})"
   ]
  },
  {
   "cell_type": "code",
   "execution_count": null,
   "id": "restricted-unknown",
   "metadata": {},
   "outputs": [],
   "source": []
  }
 ],
 "metadata": {
  "kernelspec": {
   "display_name": "Python 3",
   "language": "python",
   "name": "python3"
  },
  "language_info": {
   "codemirror_mode": {
    "name": "ipython",
    "version": 3
   },
   "file_extension": ".py",
   "mimetype": "text/x-python",
   "name": "python",
   "nbconvert_exporter": "python",
   "pygments_lexer": "ipython3",
   "version": "3.8.8"
  }
 },
 "nbformat": 4,
 "nbformat_minor": 5
}
