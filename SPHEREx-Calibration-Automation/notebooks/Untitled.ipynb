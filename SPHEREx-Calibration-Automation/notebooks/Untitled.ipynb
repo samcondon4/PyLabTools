{
 "cells": [
  {
   "cell_type": "code",
   "execution_count": 1,
   "id": "proof-conviction",
   "metadata": {},
   "outputs": [],
   "source": [
    "import asyncio\n",
    "import sys\n",
    "\n",
    "sys.path.append(r\"..\\\\pylab\\\\\")\n",
    "\n",
    "from pylablib.instruments.powermaxusb2 import Powermax"
   ]
  },
  {
   "cell_type": "code",
   "execution_count": 2,
   "id": "separated-possible",
   "metadata": {},
   "outputs": [
    {
     "name": "stdout",
     "output_type": "stream",
     "text": [
      "PowerMax USB Sensor found at:\n",
      "COM7\n"
     ]
    }
   ],
   "source": [
    "pm = Powermax()\n",
    "pm.open()"
   ]
  },
  {
   "cell_type": "code",
   "execution_count": 3,
   "id": "premium-happening",
   "metadata": {},
   "outputs": [
    {
     "data": {
      "text/plain": [
       "{'data': '3.84983e-05,0,695500\\r\\n'}"
      ]
     },
     "execution_count": 3,
     "metadata": {},
     "output_type": "execute_result"
    }
   ],
   "source": [
    "await pm.set_parameters({\"sync timer\": 0})\n",
    "pm.get_parameters(\"data\")"
   ]
  },
  {
   "cell_type": "code",
   "execution_count": 14,
   "id": "intimate-queensland",
   "metadata": {},
   "outputs": [
    {
     "data": {
      "text/plain": [
       "{'data': '6.46701e-06,0,1900\\r\\n'}"
      ]
     },
     "execution_count": 14,
     "metadata": {},
     "output_type": "execute_result"
    }
   ],
   "source": [
    "await pm.set_parameters({\"sync timer\": 0})\n",
    "pm.get_parameters(\"data\")"
   ]
  },
  {
   "cell_type": "code",
   "execution_count": 15,
   "id": "graphic-hometown",
   "metadata": {},
   "outputs": [
    {
     "data": {
      "text/plain": [
       "{'data': '5.59896e-06,0,8100\\r\\n'}"
      ]
     },
     "execution_count": 15,
     "metadata": {},
     "output_type": "execute_result"
    }
   ],
   "source": [
    "pm.get_parameters(\"data\")"
   ]
  },
  {
   "cell_type": "code",
   "execution_count": null,
   "id": "grateful-affairs",
   "metadata": {},
   "outputs": [],
   "source": []
  }
 ],
 "metadata": {
  "kernelspec": {
   "display_name": "Python 3",
   "language": "python",
   "name": "python3"
  },
  "language_info": {
   "codemirror_mode": {
    "name": "ipython",
    "version": 3
   },
   "file_extension": ".py",
   "mimetype": "text/x-python",
   "name": "python",
   "nbconvert_exporter": "python",
   "pygments_lexer": "ipython3",
   "version": "3.8.8"
  }
 },
 "nbformat": 4,
 "nbformat_minor": 5
}
