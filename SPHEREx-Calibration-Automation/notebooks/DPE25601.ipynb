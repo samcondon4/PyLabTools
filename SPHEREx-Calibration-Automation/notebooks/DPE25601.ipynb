{
 "cells": [
  {
   "cell_type": "code",
   "execution_count": 1,
   "id": "57eeef3c",
   "metadata": {},
   "outputs": [],
   "source": [
    "from pymeasure.instruments.anaheimautomation import DPSeriesMotorController"
   ]
  },
  {
   "cell_type": "code",
   "execution_count": 2,
   "id": "dfc91140",
   "metadata": {},
   "outputs": [],
   "source": [
    "mc = DPSeriesMotorController(\"ASRL4::INSTR\", address=3)"
   ]
  },
  {
   "cell_type": "code",
   "execution_count": 3,
   "id": "6ba8ffdf",
   "metadata": {},
   "outputs": [],
   "source": [
    "mc.step(20000, \"CCW\")"
   ]
  },
  {
   "cell_type": "code",
   "execution_count": null,
   "metadata": {},
   "outputs": [],
   "source": [
    "mc.address"
   ]
  },
  {
   "cell_type": "code",
   "execution_count": 7,
   "metadata": {},
   "outputs": [
    {
     "data": {
      "text/plain": [
       "0.0"
      ]
     },
     "execution_count": 7,
     "metadata": {},
     "output_type": "execute_result"
    }
   ],
   "source": [
    "mc.busy"
   ]
  }
 ],
 "metadata": {
  "kernelspec": {
   "display_name": "Python 3 (ipykernel)",
   "language": "python",
   "name": "python3"
  },
  "language_info": {
   "codemirror_mode": {
    "name": "ipython",
    "version": 3
   },
   "file_extension": ".py",
   "mimetype": "text/x-python",
   "name": "python",
   "nbconvert_exporter": "python",
   "pygments_lexer": "ipython3",
   "version": "3.9.7"
  }
 },
 "nbformat": 4,
 "nbformat_minor": 5
}
