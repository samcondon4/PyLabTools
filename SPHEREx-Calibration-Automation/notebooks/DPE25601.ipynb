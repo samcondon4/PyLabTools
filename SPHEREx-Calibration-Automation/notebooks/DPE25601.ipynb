{
 "cells": [
  {
   "cell_type": "code",
   "execution_count": 1,
   "id": "57eeef3c",
   "metadata": {},
   "outputs": [],
   "source": [
    "from pymeasure.instruments.anaheimautomation import MotorController"
   ]
  },
  {
   "cell_type": "code",
   "execution_count": 2,
   "id": "dfc91140",
   "metadata": {},
   "outputs": [],
   "source": [
    "mc = MotorController(\"COM4\", 0)"
   ]
  },
  {
   "cell_type": "code",
   "execution_count": 4,
   "id": "6ba8ffdf",
   "metadata": {},
   "outputs": [],
   "source": [
    "mc.step(20000, \"CW\")"
   ]
  },
  {
   "cell_type": "code",
   "execution_count": 5,
   "id": "d600eee8",
   "metadata": {},
   "outputs": [
    {
     "data": {
      "text/plain": [
       "19000.0"
      ]
     },
     "execution_count": 5,
     "metadata": {},
     "output_type": "execute_result"
    }
   ],
   "source": [
    "mc.position"
   ]
  },
  {
   "cell_type": "code",
   "execution_count": 6,
   "id": "e85d89bf",
   "metadata": {},
   "outputs": [],
   "source": [
    "mc.maxspeed = 1000"
   ]
  },
  {
   "cell_type": "code",
   "execution_count": 7,
   "id": "d43946ee",
   "metadata": {},
   "outputs": [],
   "source": [
    "mc.slew(\"CW\")"
   ]
  },
  {
   "cell_type": "code",
   "execution_count": 8,
   "id": "58863923",
   "metadata": {},
   "outputs": [],
   "source": [
    "mc.stop()"
   ]
  },
  {
   "cell_type": "code",
   "execution_count": null,
   "id": "1a860d88",
   "metadata": {},
   "outputs": [],
   "source": []
  }
 ],
 "metadata": {
  "kernelspec": {
   "display_name": "Python 3",
   "language": "python",
   "name": "python3"
  },
  "language_info": {
   "codemirror_mode": {
    "name": "ipython",
    "version": 3
   },
   "file_extension": ".py",
   "mimetype": "text/x-python",
   "name": "python",
   "nbconvert_exporter": "python",
   "pygments_lexer": "ipython3",
   "version": "3.8.11"
  }
 },
 "nbformat": 4,
 "nbformat_minor": 5
}
