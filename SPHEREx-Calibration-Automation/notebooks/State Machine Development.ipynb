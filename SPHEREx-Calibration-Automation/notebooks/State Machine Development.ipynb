{
 "cells": [
  {
   "cell_type": "code",
   "execution_count": 76,
   "metadata": {},
   "outputs": [
    {
     "data": {
      "text/html": [
       "<style>.container { width:90% !important; }</style>"
      ],
      "text/plain": [
       "<IPython.core.display.HTML object>"
      ]
     },
     "metadata": {},
     "output_type": "display_data"
    }
   ],
   "source": [
    "from IPython.core.display import display, HTML\n",
    "display(HTML(\"<style>.container { width:90% !important; }</style>\"))"
   ]
  },
  {
   "cell_type": "code",
   "execution_count": 77,
   "metadata": {},
   "outputs": [],
   "source": [
    "class SM:\n",
    "    def start(self):\n",
    "        self.state = self.startState\n",
    "\n",
    "    def step(self,inp):\n",
    "        (s,o) = self.getNextValues(self.state,inp)\n",
    "        self.state = s\n",
    "        return o\n",
    "\n",
    "    def transduce(self, inputs):\n",
    "        self.start()\n",
    "        return [self.step(inp) for inp in inputs]\n",
    "\n",
    "class Accumulator(SM):\n",
    "    #startState = 0\n",
    "    \n",
    "    def __init__(self, initialValue):\n",
    "        self.startState = initialValue\n",
    "\n",
    "    def getNextValues(self, state, inp):\n",
    "        return state + inp, state + inp"
   ]
  },
  {
   "cell_type": "code",
   "execution_count": 78,
   "metadata": {},
   "outputs": [
    {
     "ename": "TypeError",
     "evalue": "__init__() missing 1 required positional argument: 'initialValue'",
     "output_type": "error",
     "traceback": [
      "\u001b[1;31m---------------------------------------------------------------------------\u001b[0m",
      "\u001b[1;31mTypeError\u001b[0m                                 Traceback (most recent call last)",
      "\u001b[1;32m<ipython-input-78-db587f2e38ba>\u001b[0m in \u001b[0;36m<module>\u001b[1;34m\u001b[0m\n\u001b[1;32m----> 1\u001b[1;33m \u001b[0ma\u001b[0m \u001b[1;33m=\u001b[0m \u001b[0mAccumulator\u001b[0m\u001b[1;33m(\u001b[0m\u001b[1;33m)\u001b[0m\u001b[1;33m\u001b[0m\u001b[1;33m\u001b[0m\u001b[0m\n\u001b[0m\u001b[0;32m      2\u001b[0m \u001b[0ma\u001b[0m\u001b[1;33m.\u001b[0m\u001b[0mstart\u001b[0m\u001b[1;33m(\u001b[0m\u001b[1;33m)\u001b[0m\u001b[1;33m\u001b[0m\u001b[1;33m\u001b[0m\u001b[0m\n",
      "\u001b[1;31mTypeError\u001b[0m: __init__() missing 1 required positional argument: 'initialValue'"
     ]
    }
   ],
   "source": [
    "a = Accumulator()\n",
    "a.start()"
   ]
  },
  {
   "cell_type": "code",
   "execution_count": 79,
   "metadata": {},
   "outputs": [],
   "source": [
    "a = Accumulator(2)\n",
    "a.start()"
   ]
  },
  {
   "cell_type": "code",
   "execution_count": 80,
   "metadata": {},
   "outputs": [
    {
     "data": {
      "text/plain": [
       "5"
      ]
     },
     "execution_count": 80,
     "metadata": {},
     "output_type": "execute_result"
    }
   ],
   "source": [
    "a.step(3)"
   ]
  },
  {
   "cell_type": "code",
   "execution_count": 81,
   "metadata": {},
   "outputs": [
    {
     "data": {
      "text/plain": [
       "[10, 13]"
      ]
     },
     "execution_count": 81,
     "metadata": {},
     "output_type": "execute_result"
    }
   ],
   "source": [
    "a = Accumulator(5)\n",
    "a.transduce([5,3])"
   ]
  },
  {
   "cell_type": "code",
   "execution_count": 77,
   "metadata": {},
   "outputs": [],
   "source": [
    "class SM:\n",
    "    \n",
    "    def start(self):\n",
    "        self.state = self.startState\n",
    "\n",
    "    def step(self,inp):\n",
    "        (s,o) = self.getNextValues(self.state,inp)\n",
    "        self.state = s\n",
    "        return o\n",
    "\n",
    "    def transduce(self, inputs):\n",
    "        self.start()\n",
    "        return [self.step(inp) for inp in inputs]\n",
    "\n",
    "class Accumulator(SM):\n",
    "    #startState = 0\n",
    "    \n",
    "    def __init__(self, initialValue):\n",
    "        self.startState = initialValue\n",
    "\n",
    "    def getNextValues(self, state, inp):\n",
    "        return state + inp, state + inp"
   ]
  },
  {
   "cell_type": "code",
   "execution_count": 95,
   "metadata": {},
   "outputs": [],
   "source": [
    "class SM:\n",
    "    \n",
    "    initialized = False\n",
    "    errorStatus = 0\n",
    "    \n",
    "    def start(self):\n",
    "        self.state = self.startState\n",
    "\n",
    "    def step(self,inp):\n",
    "        (s,o) = self.getNextValues(self.state,inp)\n",
    "        self.state = s\n",
    "        return o\n",
    "\n",
    "    def transduce(self, inputs):\n",
    "        self.start()\n",
    "        return [self.step(inp) for inp in inputs]"
   ]
  },
  {
   "cell_type": "code",
   "execution_count": 110,
   "metadata": {},
   "outputs": [],
   "source": [
    "class SpectralCalibrationMachine(SM):\n",
    "    \n",
    "    startState = 'waiting'\n",
    "    \n",
    "    def __init__(self):\n",
    "        print('Launch GUI')\n",
    "        print('Start by Initialization')\n",
    "        self.initialize()\n",
    "        \n",
    "    def initialize(self):\n",
    "        print('Run Initialization Procedure')\n",
    "        self.intialized = True\n",
    "            \n",
    "    def generateOutput(self,state):\n",
    "        if state == 'initializing':\n",
    "            return 'initialize'\n",
    "        elif state == 'collecting':\n",
    "            return 'collect'\n",
    "        elif state == 'compressing':\n",
    "            return 'compress'\n",
    "        elif state == 'storing':\n",
    "            return 'write to disk'\n",
    "        else:\n",
    "            return 'wait' \n",
    "        \n",
    "    # Inputs to consider: initStatus, errorStatus, rawDataCompressReady, rawDataCompressed, dataWriteReady, dataWritten\n",
    "    def getNextValues(self, state, inp):\n",
    "        #(initStatus, errorStatus, rawDataCompressReady, rawDataCompressed, dataWriteReady, dataWritten) = inp\n",
    "        #pdb.set_trace()\n",
    "        if self.errorStatus == True:\n",
    "            nextState = 'error' \n",
    "        elif state == 'waiting' and inp == 'initialize':\n",
    "            nextState = 'initializing'\n",
    "        elif state == 'waiting' and self.init_status == True and inp == 'collect':\n",
    "            nextState = 'collecting'\n",
    "        elif state == 'waiting' and self.data_in_queue == True and inp == 'compress':\n",
    "            nextState = 'compressing'\n",
    "        elif state == 'waiting' and self.data_ready_to_store == True and inp == 'write_to_disk':\n",
    "            nextState = 'storing'\n",
    "        else:\n",
    "            nextState = 'error'\n",
    "            \n",
    "        return (nextState, self.generateOutput(nextState))"
   ]
  },
  {
   "cell_type": "code",
   "execution_count": 111,
   "metadata": {},
   "outputs": [
    {
     "name": "stdout",
     "output_type": "stream",
     "text": [
      "Launch GUI\n",
      "Start by Initialization\n",
      "Run Initialization Procedure\n"
     ]
    }
   ],
   "source": [
    "scm = SpectralCalibrationMachine()"
   ]
  },
  {
   "cell_type": "code",
   "execution_count": 101,
   "metadata": {},
   "outputs": [],
   "source": [
    "scm.start()"
   ]
  },
  {
   "cell_type": "code",
   "execution_count": 102,
   "metadata": {},
   "outputs": [
    {
     "data": {
      "text/plain": [
       "['wait']"
      ]
     },
     "execution_count": 102,
     "metadata": {},
     "output_type": "execute_result"
    }
   ],
   "source": [
    "inp = (False, False, False, False, False, False)\n",
    "scm.transduce([inp])"
   ]
  },
  {
   "cell_type": "code",
   "execution_count": 109,
   "metadata": {},
   "outputs": [
    {
     "ename": "AttributeError",
     "evalue": "'SpectralCalibrationMachine' object has no attribute 'state'",
     "output_type": "error",
     "traceback": [
      "\u001b[1;31m---------------------------------------------------------------------------\u001b[0m",
      "\u001b[1;31mAttributeError\u001b[0m                            Traceback (most recent call last)",
      "\u001b[1;32m<ipython-input-109-8860531e9a8d>\u001b[0m in \u001b[0;36m<module>\u001b[1;34m\u001b[0m\n\u001b[1;32m----> 1\u001b[1;33m \u001b[0mscm\u001b[0m\u001b[1;33m.\u001b[0m\u001b[0mstate\u001b[0m\u001b[1;33m\u001b[0m\u001b[1;33m\u001b[0m\u001b[0m\n\u001b[0m",
      "\u001b[1;31mAttributeError\u001b[0m: 'SpectralCalibrationMachine' object has no attribute 'state'"
     ]
    }
   ],
   "source": [
    "scm.state"
   ]
  },
  {
   "cell_type": "markdown",
   "metadata": {},
   "source": [
    "## Nomenclature\n",
    "- Complete data collection procedure, from init to writing is referred to as a \"run\".   \n",
    "- Each step in a run is an \"event\".  \n",
    "- Where a run is in the sequence of events is it's \"state\"\n",
    "- To move between states requires \"triggers\"\n",
    "\n",
    "## States are\n",
    "* waiting: in between events; triggered by conclusion of steps.  Options while waiting include\n",
    "    * set parameters (wavelength/steps, integration time, devices to include in the initialization, compression?, write results?, display in real time?)\n",
    "    * initialize\n",
    "    * run all\n",
    "* initializing (complete and between runs): triggered by initialize command (at any time, but warning if initialize already happened) will initialize all devices with checked boxes in GUI. Returns dictionary of device metadata\n",
    "* collecting: triggered by collection command (at end sets self.data_in_queue = True)\n",
    "* compressing: triggered by compression commmand (at end sets self.data_ready_to_store = True) \n",
    "* writing: triggered by writing command\n",
    "* fubar: triggered by an error in any of the steps\n",
    "* interupt: is this a state or a command?  "
   ]
  },
  {
   "cell_type": "code",
   "execution_count": 28,
   "metadata": {},
   "outputs": [],
   "source": [
    "import pdb\n",
    "import numpy as np\n",
    "class SM:\n",
    "    \n",
    "    startState = 'waiting'\n",
    "    init_status = False\n",
    "    data_in_queue = False\n",
    "    data_ready_to_store = False\n",
    "    \n",
    "    errorStatus = 0\n",
    "    \n",
    "    def start(self):\n",
    "        self.state = self.startState\n",
    "\n",
    "    def step(self,inp):\n",
    "        (s,o) = self.getNextValues(self.state,inp)\n",
    "        self.state = s\n",
    "\n",
    "        return o\n",
    "\n",
    "    def transduce(self, inputs):\n",
    "        self.start()\n",
    "        return [self.step(inp) for inp in inputs]"
   ]
  },
  {
   "cell_type": "code",
   "execution_count": 51,
   "metadata": {},
   "outputs": [],
   "source": [
    "class SpectralCalibrationMachine(SM):\n",
    "    \n",
    "    def __init__(self):\n",
    "        print('Start by Initializing')\n",
    "               \n",
    "        self.errorStatus = self.initialize()\n",
    "        #pdb.set_trace()\n",
    "\n",
    "    def initialize(self):\n",
    "        print('Initialize each device, one at a time.  Each Returns Flag and Metadata, stored in a Dict')\n",
    "        \n",
    "        self.start()\n",
    "        errors = 0\n",
    "        if np.sum(errors > 0):\n",
    "            return \n",
    "        else:\n",
    "            self.init_status = True\n",
    "        return 'waiting', 'Initialized without errors' #errors \n",
    "    \n",
    "    def collect_data(self):\n",
    "        print('Collecting Data')\n",
    "        errors = 0\n",
    "        if np.sum(errors > 0):\n",
    "            return \n",
    "        else:\n",
    "            self.data_in_queue = True\n",
    "        return 'waiting', 'Data Collected' #errors \n",
    "    \n",
    "    def compress_data(self):\n",
    "        print('Compressing Data')\n",
    "        errors = 0\n",
    "        if np.sum(errors > 0):\n",
    "            return \n",
    "        else:\n",
    "            self.data_ready_to_store = True\n",
    "        return 'waiting', 'Data Compressed' #errors \n",
    "    \n",
    "    def write_data_to_disk(self):\n",
    "        print('Writing Data to Disk')\n",
    "        errors = 0\n",
    "        if np.sum(errors > 0):\n",
    "            return \n",
    "        else:\n",
    "            self.data_ready_to_store = True\n",
    "        return 'waiting', 'Data Written to Disk' #errors \n",
    "    \n",
    "    def generateOutput(self,state):\n",
    "        if state == 'initializing':\n",
    "            return self.initialize()\n",
    "        elif state == 'collecting':\n",
    "            return self.collect_data()\n",
    "        elif state == 'compressing':\n",
    "            return self.compress_data()\n",
    "        elif state == 'storing':\n",
    "            return self.write_data_to_disk()\n",
    "        else:\n",
    "            return 'wait'\n",
    " \n",
    "    '''def getNextValues(self, state, inp):\n",
    "        if self.errorStatus == True:\n",
    "            nextState = 'error'      \n",
    "        elif state == 'waiting' and inp == 'initialize':\n",
    "            nextState = 'initializing'\n",
    "        elif state == 'waiting' and self.init_status == True and inp == 'collect':\n",
    "            nextState = 'collecting'\n",
    "        elif state == 'waiting' and self.data_in_queue == True and inp == 'compress':\n",
    "            nextState = 'compressing'\n",
    "        elif state == 'waiting' and self.data_ready_to_store == True and inp == 'write_to_disk':\n",
    "            nextState = 'storing'\n",
    "        else:\n",
    "            nextState = 'error'\n",
    "    '''\n",
    "    \n",
    "    def getNextValues(self, state, dict_in):\n",
    "        if self.errorStatus == True:\n",
    "            nextState = 'error'      \n",
    "        elif state == 'waiting' and 'initialize' in dict_in:\n",
    "            nextState = 'initializing'\n",
    "        elif state == 'waiting' and self.init_status == True and 'collect' in dict_in:\n",
    "            nextState = 'collecting'\n",
    "        elif state == 'waiting' and self.data_in_queue == True and 'compress' in dict_in:\n",
    "            nextState = 'compressing'\n",
    "        elif state == 'waiting' and self.data_ready_to_store == True and 'write_to_disk' in dict_in:\n",
    "            nextState = 'storing'\n",
    "        else:\n",
    "            nextState = 'error'\n",
    "        return (self.generateOutput(nextState))"
   ]
  },
  {
   "cell_type": "code",
   "execution_count": 52,
   "metadata": {},
   "outputs": [
    {
     "name": "stdout",
     "output_type": "stream",
     "text": [
      "Start by Initializing\n",
      "Initialize each device, one at a time.  Each Returns Flag and Metadata, stored in a Dict\n"
     ]
    }
   ],
   "source": [
    "scm2 = SpectralCalibrationMachine()"
   ]
  },
  {
   "cell_type": "code",
   "execution_count": 56,
   "metadata": {},
   "outputs": [
    {
     "name": "stdout",
     "output_type": "stream",
     "text": [
      "Initialize each device, one at a time.  Each Returns Flag and Metadata, stored in a Dict\n",
      "Collecting Data\n",
      "Compressing Data\n",
      "Writing Data to Disk\n"
     ]
    },
    {
     "data": {
      "text/plain": [
       "['Initialized without errors',\n",
       " 'Data Collected',\n",
       " 'Data Compressed',\n",
       " 'Data Written to Disk']"
      ]
     },
     "execution_count": 56,
     "metadata": {},
     "output_type": "execute_result"
    }
   ],
   "source": [
    "scm2.transduce([{'initialize': [0,2,4]},{'collect': [0,2,4]},{'compress': [0,2,4]},{'write_to_disk': [0,2,4]}])"
   ]
  },
  {
   "cell_type": "code",
   "execution_count": null,
   "metadata": {},
   "outputs": [],
   "source": [
    "scm2.transduce(['initialize','collect','compress','write_to_disk'])"
   ]
  }
 ],
 "metadata": {
  "kernelspec": {
   "display_name": "Python 3",
   "language": "python",
   "name": "python3"
  },
  "language_info": {
   "codemirror_mode": {
    "name": "ipython",
    "version": 3
   },
   "file_extension": ".py",
   "mimetype": "text/x-python",
   "name": "python",
   "nbconvert_exporter": "python",
   "pygments_lexer": "ipython3",
   "version": "3.8.5"
  }
 },
 "nbformat": 4,
 "nbformat_minor": 4
}
