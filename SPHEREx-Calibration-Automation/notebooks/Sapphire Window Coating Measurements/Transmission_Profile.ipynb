{
 "cells": [
  {
   "cell_type": "markdown",
   "id": "ecological-muscle",
   "metadata": {},
   "source": [
    "## Transmission Profile Processing\n",
    "\n",
    "This notebook processes the data collected in the measurement notebook to produce Signal-to-Noise plots and the final transmission profile of the sapphire coating sample.\n",
    "\n",
    "Sam Condon \\\n",
    "Caltech \\\n",
    "05/18/2021"
   ]
  },
  {
   "cell_type": "code",
   "execution_count": 2,
   "id": "found-penetration",
   "metadata": {},
   "outputs": [],
   "source": [
    "import pandas as pd\n",
    "import matplotlib.pyplot as plt"
   ]
  },
  {
   "cell_type": "code",
   "execution_count": 20,
   "id": "rolled-difficulty",
   "metadata": {},
   "outputs": [],
   "source": [
    "## Convert existing sample_log.txt file to a .cfg for easy read in to a pandas dictionary\n",
    "\n",
    "sample_log_txt = open(\"sample_log.txt\")\n"
   ]
  },
  {
   "cell_type": "code",
   "execution_count": 22,
   "id": "recognized-latter",
   "metadata": {},
   "outputs": [
    {
     "data": {
      "text/plain": [
       "''"
      ]
     },
     "execution_count": 22,
     "metadata": {},
     "output_type": "execute_result"
    }
   ],
   "source": [
    "sample_log_txt.tell()\n",
    "sample_log_txt.read()"
   ]
  },
  {
   "cell_type": "code",
   "execution_count": 23,
   "id": "logical-blast",
   "metadata": {},
   "outputs": [],
   "source": [
    "sample_log_txt.close()"
   ]
  },
  {
   "cell_type": "code",
   "execution_count": null,
   "id": "matched-encyclopedia",
   "metadata": {},
   "outputs": [],
   "source": []
  }
 ],
 "metadata": {
  "kernelspec": {
   "display_name": "Python 3",
   "language": "python",
   "name": "python3"
  },
  "language_info": {
   "codemirror_mode": {
    "name": "ipython",
    "version": 3
   },
   "file_extension": ".py",
   "mimetype": "text/x-python",
   "name": "python",
   "nbconvert_exporter": "python",
   "pygments_lexer": "ipython3",
   "version": "3.8.8"
  }
 },
 "nbformat": 4,
 "nbformat_minor": 5
}
