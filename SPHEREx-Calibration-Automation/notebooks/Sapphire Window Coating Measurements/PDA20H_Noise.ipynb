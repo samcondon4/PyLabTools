{
 "cells": [
  {
   "cell_type": "markdown",
   "id": "classical-coupon",
   "metadata": {},
   "source": [
    "# Thorlabs PDA20H Detector Noise\n",
    "\n",
    "In this notebook, I characterize the Thorlabs PDA20H detector total noise power vs. integration time to ensure we can meet the signal to noise requirements of the Sapphire window coating transmission measurements.\n",
    "\n",
    "Sam Condon \\\n",
    "SPHEREx-Test/Cal Laboratory \\\n",
    "Caltech \\\n",
    "05/04/2021"
   ]
  },
  {
   "cell_type": "markdown",
   "id": "cosmetic-screw",
   "metadata": {},
   "source": [
    "___________________________________________________________________________________________________________________"
   ]
  },
  {
   "cell_type": "markdown",
   "id": "confused-regulation",
   "metadata": {},
   "source": [
    "## Setup"
   ]
  },
  {
   "cell_type": "markdown",
   "id": "secure-cornell",
   "metadata": {},
   "source": [
    "#### Import necessary packages"
   ]
  },
  {
   "cell_type": "code",
   "execution_count": 1,
   "id": "green-retirement",
   "metadata": {},
   "outputs": [],
   "source": [
    "import pandas as pd\n",
    "import scipy.fft as spfft\n",
    "import matplotlib.pyplot as plt\n",
    "import numpy as np\n",
    "import time\n",
    "from datetime import date\n",
    "import u6\n",
    "import os"
   ]
  },
  {
   "cell_type": "markdown",
   "id": "approximate-directive",
   "metadata": {},
   "source": [
    "#### Define class to run readout via LabJack U6"
   ]
  },
  {
   "cell_type": "code",
   "execution_count": 2,
   "id": "consecutive-batch",
   "metadata": {},
   "outputs": [],
   "source": [
    "DETECTOR_PORT = 'AIN0'\n",
    "\n",
    "class LabJackU6:\n",
    "\n",
    "    def __init__(self, fs=5e3):\n",
    "        # Initialize LabJack U6\n",
    "        self.u6 = u6.U6()\n",
    "        self.u6.getCalibrationData()\n",
    "        self.fs = fs\n",
    "        self.u6.streamConfig(NumChannels=2, ChannelNumbers=[0, 1], ChannelOptions=[0, 0],\n",
    "                             SettlingFactor=1, ResolutionIndex=1, ScanFrequency=self.fs)\n",
    "\n",
    "    def integrate(self, integration_time=5.0, avg=True):\n",
    "        data_dict = {'Detector Voltage': []}\n",
    "        detector_data = []\n",
    "        start_time = time.perf_counter()\n",
    "        self.u6.streamStart()\n",
    "        for measure in self.u6.streamData():\n",
    "            # stop condition\n",
    "            if time.perf_counter() >= (start_time + integration_time):\n",
    "                break\n",
    "\n",
    "            if measure is not None and measure['errors'] == 0:\n",
    "                d = measure[DETECTOR_PORT]\n",
    "                if avg:\n",
    "                    detector_data.append(sum(d) / len(d))\n",
    "                else:\n",
    "                    detector_data = detector_data + d\n",
    "\n",
    "        self.u6.streamStop()\n",
    "        data_dict['Detector Voltage'] = detector_data\n",
    "        return pd.DataFrame(data_dict)\n",
    "    \n",
    "    def stream_stop(self):\n",
    "        self.u6.streamStop()\n",
    "    \n",
    "    def close(self):\n",
    "        self.u6.close()"
   ]
  },
  {
   "cell_type": "markdown",
   "id": "placed-insulin",
   "metadata": {},
   "source": [
    "#### Define plotting routine"
   ]
  },
  {
   "cell_type": "code",
   "execution_count": 3,
   "id": "experimental-queen",
   "metadata": {},
   "outputs": [],
   "source": [
    "#plot sample time series, histogram, and fourier transform\n",
    "\n",
    "def plot_time_hist(t, working_samps, title='Sample'):\n",
    "    fig, plts = plt.subplots(1,2, figsize=(15,5))\n",
    "\n",
    "    plts[0].plot(t, 1e3*working_samps)\n",
    "    plts[0].set_title('{} Time Series'.format(title))\n",
    "    plts[0].set_xlabel('Time (s.)')\n",
    "    plts[0].set_ylabel('Detector Voltage (mV.)')\n",
    "\n",
    "    plts[1].hist(1e3*working_samps, bins=10)\n",
    "    plts[1].set_title('{} Histogram'.format(title))\n",
    "    plts[1].set_xlabel('Detector Voltage (mV.)')\n",
    "    plts[1].set_ylabel('Occurences')"
   ]
  },
  {
   "cell_type": "markdown",
   "id": "extra-swiss",
   "metadata": {},
   "source": [
    "#### Define FFT routine"
   ]
  },
  {
   "cell_type": "code",
   "execution_count": 4,
   "id": "young-engagement",
   "metadata": {},
   "outputs": [],
   "source": [
    "def fft(samples, fs, N=None, scale=None, ax=None, plot=True):\n",
    "    if N == None:\n",
    "        N = len(samples)\n",
    "    if scale is not None:\n",
    "        samps_fft = scale*spfft.fft(samples, n=N)\n",
    "    else:\n",
    "        samps_fft = spfft.fft(samples, n=N)\n",
    "    freqs = spfft.fftshift(spfft.fftfreq(samples.size, d=1/fs))\n",
    "    samps_fft = spfft.fftshift(samps_fft)\n",
    "    samps_fft_mag = np.absolute(samps_fft)\n",
    "    fft_dict = {'fft': samps_fft, 'fft_mags': samps_fft_mag,\n",
    "                'freqs': freqs}\n",
    "    \n",
    "    \n",
    "    if ax is None and plot:\n",
    "        fft_fig, ax = plt.subplots(figsize=(10,5))\n",
    "    \n",
    "    if plot:\n",
    "        ax.plot(fft_dict['freqs'], fft_dict['fft_mags'])\n",
    "        ax.set_title('Sample FFT')\n",
    "        ax.set_xlabel('Frequency (Hz.)')\n",
    "\n",
    "    return fft_dict"
   ]
  },
  {
   "cell_type": "markdown",
   "id": "greater-might",
   "metadata": {},
   "source": [
    "#### Define routine to calculate total power in a magnitude spectrum after moving average filtering (i.e. total noise power at a given integration time)"
   ]
  },
  {
   "cell_type": "code",
   "execution_count": 5,
   "id": "adult-baghdad",
   "metadata": {},
   "outputs": [],
   "source": [
    "def noise_power_calc(fft_mags, fft_freqs, int_t):\n",
    "    #Frequency response of moving average filter applied from integration\n",
    "    Hma = np.abs(np.sinc(fft_freqs*int_t))\n",
    "    #Apply filtering in fourier space\n",
    "    fft_mags_integrated = np.multiply(Hma, fft_mags)\n",
    "    #Convert to two-sided power spectral density\n",
    "    psd_integrated = (1/4)*(fft_mags_integrated**2)\n",
    "    \n",
    "    return np.sum(psd_integrated)"
   ]
  },
  {
   "cell_type": "markdown",
   "id": "alternative-insert",
   "metadata": {},
   "source": [
    "#### Define routine to save csvs and add measurement to log"
   ]
  },
  {
   "cell_type": "code",
   "execution_count": 6,
   "id": "impressed-density",
   "metadata": {},
   "outputs": [],
   "source": [
    "def save_csv(df):\n",
    "    count = 0\n",
    "    date_str = str(date.today())\n",
    "    int_time_str = str(integration_time)\n",
    "    fs_str = str(int(fs))\n",
    "    cnt_str = str(count)\n",
    "    base_str = 'data\\\\' + date_str + '_' + int_time_str + '_' + fs_str + '_'\n",
    "    file_name = base_str + cnt_str + '.csv'\n",
    "    while os.path.exists(file_name):\n",
    "        count += 1\n",
    "        cnt_str = str(count)\n",
    "        file_name =  base_str + cnt_str + '.csv'\n",
    "    file_name = file_name\n",
    "    log_file = open(log_file_name, 'a')\n",
    "    log_file.write('\\n' + file_name)\n",
    "    df.to_csv(file_name, index=False)"
   ]
  },
  {
   "cell_type": "markdown",
   "id": "hearing-adaptation",
   "metadata": {},
   "source": [
    "#### Define parameters used to control cells of notebook"
   ]
  },
  {
   "cell_type": "code",
   "execution_count": 7,
   "id": "creative-portal",
   "metadata": {},
   "outputs": [],
   "source": [
    "log_file_name = 'sample_log.txt'\n",
    "fs = int(5e3)\n",
    "sample_time = 100\n",
    "#lju6 = LabJackU6(fs=fs)"
   ]
  },
  {
   "cell_type": "markdown",
   "id": "dental-writing",
   "metadata": {},
   "source": [
    "## Sample New Data or Read in Existing"
   ]
  },
  {
   "cell_type": "code",
   "execution_count": null,
   "id": "instant-subcommittee",
   "metadata": {},
   "outputs": [],
   "source": [
    "#Record new data\n",
    "samples = lju6.integrate(avg=False, integration_time=sample_time)\n",
    "samps_arr = samples.values.flatten()\n",
    "\n",
    "samples_nodc = samples - samples.mean()\n",
    "samps_nodc_arr = samples_nodc.values.flatten()"
   ]
  },
  {
   "cell_type": "code",
   "execution_count": null,
   "id": "equipped-dominant",
   "metadata": {},
   "outputs": [],
   "source": [
    "save_csv(samples)"
   ]
  },
  {
   "cell_type": "code",
   "execution_count": 50,
   "id": "prime-insight",
   "metadata": {},
   "outputs": [],
   "source": [
    "#Read existing data\n",
    "file_name = 'data\\\\2021-05-11_100_5000_0.csv'\n",
    "samples_read = pd.read_csv(file_name)\n",
    "samps_read_arr = samples_read.values.flatten()\n",
    "\n",
    "samples_read_nodc = samples_read - samples_read.mean()\n",
    "samps_read_nodc_arr = samples_read_nodc.values.flatten()"
   ]
  },
  {
   "cell_type": "markdown",
   "id": "brave-escape",
   "metadata": {},
   "source": [
    "## Noise Sample FFT"
   ]
  },
  {
   "cell_type": "code",
   "execution_count": 56,
   "id": "dying-cedar",
   "metadata": {},
   "outputs": [
    {
     "data": {
      "image/png": "[encoded data removed]",
      "text/plain": [
       "<Figure size 720x360 with 1 Axes>"
      ]
     },
     "metadata": {
      "needs_background": "light"
     },
     "output_type": "display_data"
    }
   ],
   "source": [
    "%matplotlib inline\n",
    "working_samps = samps_read_nodc_arr\n",
    "ws_len = len(working_samps)\n",
    "working_samps_fft = fft(working_samps, fs, scale=(2/ws_len)) "
   ]
  },
  {
   "cell_type": "markdown",
   "id": "royal-monroe",
   "metadata": {},
   "source": [
    "\n",
    "## Noise Power vs. Integration Time"
   ]
  },
  {
   "cell_type": "code",
   "execution_count": 57,
   "id": "convertible-handle",
   "metadata": {},
   "outputs": [
    {
     "data": {
      "text/plain": [
       "Text(0, 0.5, 'Total noise power')"
      ]
     },
     "execution_count": 57,
     "metadata": {},
     "output_type": "execute_result"
    },
    {
     "data": {
      "image/png": "[encoded data removed]",
      "text/plain": [
       "<Figure size 576x288 with 1 Axes>"
      ]
     },
     "metadata": {
      "needs_background": "light"
     },
     "output_type": "display_data"
    }
   ],
   "source": [
    "%matplotlib inline\n",
    "integration_times = np.linspace(0.01, 100, 100)\n",
    "noise_powers = []\n",
    "for int_t in integration_times:\n",
    "    noise_powers.append(noise_power_calc(working_samps_fft['fft_mags'], working_samps_fft['freqs'], int_t))\n",
    "\n",
    "fig, ax = plt.subplots(figsize=(8,4))\n",
    "ax.plot(integration_times, noise_powers)\n",
    "ax.set_title('Noise Power vs. Integration Time')\n",
    "ax.set_xlabel('Integration time (s.)')\n",
    "ax.set_ylabel('Total noise power')"
   ]
  },
  {
   "cell_type": "markdown",
   "id": "compatible-offset",
   "metadata": {},
   "source": [
    "## Verification"
   ]
  },
  {
   "cell_type": "markdown",
   "id": "vocal-piece",
   "metadata": {},
   "source": [
    "#### Verification of conversion from fft magnitude spectrum to power spectral density"
   ]
  },
  {
   "cell_type": "code",
   "execution_count": 58,
   "id": "resistant-beijing",
   "metadata": {},
   "outputs": [
    {
     "name": "stdout",
     "output_type": "stream",
     "text": [
      "1.511408032492283e-05\n",
      "1.5114080324922838e-05\n"
     ]
    },
    {
     "data": {
      "image/png": "[encoded data removed]",
      "text/plain": [
       "<Figure size 1080x360 with 2 Axes>"
      ]
     },
     "metadata": {
      "needs_background": "light"
     },
     "output_type": "display_data"
    },
    {
     "data": {
      "image/png": "[encoded data removed]",
      "text/plain": [
       "<Figure size 720x288 with 1 Axes>"
      ]
     },
     "metadata": {
      "needs_background": "light"
     },
     "output_type": "display_data"
    }
   ],
   "source": [
    "ws_len = len(working_samps)\n",
    "t = np.arange(0, working_samps.size*(1/fs), (1/fs))\n",
    "plot_time_hist(t, working_samps, title='Noise')\n",
    "working_samps_fft = fft(working_samps, fs, scale=(2/ws_len), plot=False)\n",
    "ws_psd = (1/4)*(working_samps_fft['fft_mags']**2)\n",
    "fig, ax = plt.subplots(figsize=(10,4))\n",
    "ax.plot(working_samps_fft['freqs'], ws_psd)\n",
    "ax.set_title('Noise Power Spectral Density')\n",
    "\n",
    "#Verify total power in time series and power spectral density match\n",
    "noise_power_time = np.mean(working_samps**2)\n",
    "noise_power_freq = np.sum(ws_psd)\n",
    "\n",
    "print(noise_power_time)\n",
    "print(noise_power_freq)"
   ]
  },
  {
   "cell_type": "markdown",
   "id": "functioning-junction",
   "metadata": {},
   "source": [
    "#### Verification of noise_power_calc routine"
   ]
  },
  {
   "cell_type": "code",
   "execution_count": 59,
   "id": "directed-ultimate",
   "metadata": {},
   "outputs": [
    {
     "name": "stdout",
     "output_type": "stream",
     "text": [
      "3.95710808837229e-06\n",
      "3.952641127799873e-06\n",
      "3.952641127799873e-06\n"
     ]
    }
   ],
   "source": [
    "int_t = .005\n",
    "\n",
    "#Generate moving average filter corresponding to given integration time and perform filtering in time\n",
    "ma_N = int(int_t*fs)\n",
    "ma_filter = (1/ma_N)*np.ones(ma_N)\n",
    "ma_filter_fft = fft(ma_filter, fs, N=ws_len, plot=False)\n",
    "ws_integrated = np.convolve(ma_filter, working_samps)\n",
    "\n",
    "\n",
    "#Generate sinc function corresponding to frequency response of moving average filter from above\n",
    "f = working_samps_fft['freqs']\n",
    "ws_fft_mags = working_samps_fft['fft_mags']\n",
    "int_sinc = np.abs(np.sinc(f*int_t))\n",
    "ws_fft_integrated = np.multiply(int_sinc, ws_fft_mags)\n",
    "\n",
    "#Convert to power spectral density\n",
    "ws_psd_integrated = (1/4)*(ws_fft_integrated**2)\n",
    "\n",
    "#Verify that total noise power in time and frequency agree after filtering\n",
    "integrated_noise_power_time = np.mean(ws_integrated**2)\n",
    "integrated_noise_power_freq = np.sum(ws_psd_integrated)\n",
    "test = noise_power_calc(ws_fft_mags, f, int_t)\n",
    "\n",
    "print(integrated_noise_power_time)\n",
    "print(integrated_noise_power_freq)\n",
    "print(test)\n"
   ]
  },
  {
   "cell_type": "code",
   "execution_count": null,
   "id": "smooth-surveillance",
   "metadata": {},
   "outputs": [],
   "source": []
  }
 ],
 "metadata": {
  "kernelspec": {
   "display_name": "Python 3",
   "language": "python",
   "name": "python3"
  },
  "language_info": {
   "codemirror_mode": {
    "name": "ipython",
    "version": 3
   },
   "file_extension": ".py",
   "mimetype": "text/x-python",
   "name": "python",
   "nbconvert_exporter": "python",
   "pygments_lexer": "ipython3",
   "version": "3.8.8"
  }
 },
 "nbformat": 4,
 "nbformat_minor": 5
}
