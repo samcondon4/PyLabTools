{
 "cells": [
  {
   "cell_type": "code",
   "execution_count": 1,
   "id": "fd27e7a2",
   "metadata": {},
   "outputs": [],
   "source": [
    "import pyvisa\n",
    "import sys\n",
    "import asyncio\n",
    "import numpy as np\n",
    "\n",
    "sys.path.append(\"..\\\\pylab\\\\\")\n",
    "from pylablib.instruments.SRS830m import SRS830m"
   ]
  },
  {
   "cell_type": "code",
   "execution_count": 2,
   "id": "51581848",
   "metadata": {},
   "outputs": [],
   "source": [
    "lockin = SRS830m()\n",
    "lockin.open()"
   ]
  },
  {
   "cell_type": "code",
   "execution_count": 5,
   "id": "81feabd1",
   "metadata": {},
   "outputs": [
    {
     "data": {
      "text/plain": [
       "8"
      ]
     },
     "execution_count": 5,
     "metadata": {},
     "output_type": "execute_result"
    }
   ],
   "source": [
    "lockin.inst.write(\"SRAT 8\")"
   ]
  },
  {
   "cell_type": "code",
   "execution_count": 6,
   "id": "a612fb6b",
   "metadata": {},
   "outputs": [
    {
     "data": {
      "text/plain": [
       "'4\\n'"
      ]
     },
     "execution_count": 6,
     "metadata": {},
     "output_type": "execute_result"
    }
   ],
   "source": [
    "lockin.inst.query(\"SRAT?\")"
   ]
  },
  {
   "cell_type": "code",
   "execution_count": null,
   "id": "c14b998a",
   "metadata": {},
   "outputs": [],
   "source": []
  }
 ],
 "metadata": {
  "kernelspec": {
   "display_name": "Python 3 (ipykernel)",
   "language": "python",
   "name": "python3"
  },
  "language_info": {
   "codemirror_mode": {
    "name": "ipython",
    "version": 3
   },
   "file_extension": ".py",
   "mimetype": "text/x-python",
   "name": "python",
   "nbconvert_exporter": "python",
   "pygments_lexer": "ipython3",
   "version": "3.8.8"
  }
 },
 "nbformat": 4,
 "nbformat_minor": 5
}
