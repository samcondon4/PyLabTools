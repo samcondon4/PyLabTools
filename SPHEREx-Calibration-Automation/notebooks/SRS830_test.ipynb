{
 "cells": [
  {
   "cell_type": "code",
   "execution_count": 1,
   "id": "fd27e7a2",
   "metadata": {},
   "outputs": [],
   "source": [
    "import pyvisa\n",
    "import sys\n",
    "import asyncio\n",
    "import numpy as np\n",
    "import struct\n",
    "\n",
    "sys.path.append(\"..\\\\pylab\\\\\")\n",
    "from pylablib.instruments.SR830 import SR830"
   ]
  },
  {
   "cell_type": "code",
   "execution_count": 2,
   "id": "51581848",
   "metadata": {},
   "outputs": [],
   "source": [
    "lockin = SR830()\n",
    "lockin.open()"
   ]
  },
  {
   "cell_type": "code",
   "execution_count": 4,
   "id": "44e3ba13",
   "metadata": {},
   "outputs": [
    {
     "data": {
      "text/plain": [
       "{'phase': 36.11,\n",
       " 'reference frequency': 18.7969,\n",
       " 'sensitivity': 0.05,\n",
       " 'time constant': 1.0,\n",
       " 'sample rate': 128.0,\n",
       " 'lia status': '0',\n",
       " 'error status': '0'}"
      ]
     },
     "execution_count": 4,
     "metadata": {},
     "output_type": "execute_result"
    }
   ],
   "source": [
    "await lockin.get_parameters(\"All\")"
   ]
  },
  {
   "cell_type": "code",
   "execution_count": 15,
   "id": "af42fafe",
   "metadata": {},
   "outputs": [],
   "source": [
    "await lockin.set_parameters({\"time constant\": 1, \"sensitivity\": 50e-3, \"sample rate\": 512, \"phase\": \"auto\"})"
   ]
  },
  {
   "cell_type": "code",
   "execution_count": null,
   "id": "55024be0",
   "metadata": {},
   "outputs": [],
   "source": [
    "await lockin.set_parameters({\"time constant\": 1000, \n",
    "                             \"sensitivity\": 50e-3})"
   ]
  },
  {
   "cell_type": "code",
   "execution_count": 16,
   "id": "8a3241fd",
   "metadata": {},
   "outputs": [],
   "source": [
    "arr = await lockin.measure(1, settled_override=True)"
   ]
  },
  {
   "cell_type": "code",
   "execution_count": 17,
   "id": "4833df42",
   "metadata": {},
   "outputs": [
    {
     "data": {
      "text/plain": [
       "512"
      ]
     },
     "execution_count": 17,
     "metadata": {},
     "output_type": "execute_result"
    }
   ],
   "source": [
    "len(arr[\"detector voltage\"])"
   ]
  },
  {
   "cell_type": "code",
   "execution_count": null,
   "id": "66f79202",
   "metadata": {},
   "outputs": [],
   "source": [
    "lockin.inst.query(\"OUTP?1\")"
   ]
  },
  {
   "cell_type": "code",
   "execution_count": null,
   "id": "b8f3256e",
   "metadata": {},
   "outputs": [],
   "source": [
    "fs = lockin.get_sample_rate()"
   ]
  },
  {
   "cell_type": "code",
   "execution_count": null,
   "id": "2a152ae2",
   "metadata": {},
   "outputs": [],
   "source": []
  }
 ],
 "metadata": {
  "kernelspec": {
   "display_name": "Python 3 (ipykernel)",
   "language": "python",
   "name": "python3"
  },
  "language_info": {
   "codemirror_mode": {
    "name": "ipython",
    "version": 3
   },
   "file_extension": ".py",
   "mimetype": "text/x-python",
   "name": "python",
   "nbconvert_exporter": "python",
   "pygments_lexer": "ipython3",
   "version": "3.8.8"
  }
 },
 "nbformat": 4,
 "nbformat_minor": 5
}
