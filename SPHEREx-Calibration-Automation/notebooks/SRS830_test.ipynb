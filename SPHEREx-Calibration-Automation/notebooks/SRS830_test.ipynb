{
 "cells": [
  {
   "cell_type": "code",
   "execution_count": 1,
   "id": "2a152ae2",
   "metadata": {},
   "outputs": [],
   "source": [
    "from pymeasure.instruments.srs import SR830"
   ]
  },
  {
   "cell_type": "code",
   "execution_count": 2,
   "id": "f184cc81",
   "metadata": {},
   "outputs": [],
   "source": [
    "sr830 = SR830(15)"
   ]
  },
  {
   "cell_type": "code",
   "execution_count": 5,
   "id": "eb4f431c",
   "metadata": {},
   "outputs": [
    {
     "data": {
      "text/plain": [
       "'12\\n'"
      ]
     },
     "execution_count": 5,
     "metadata": {},
     "output_type": "execute_result"
    }
   ],
   "source": [
    "sr830.ask(\"LIAS?\")"
   ]
  },
  {
   "cell_type": "code",
   "execution_count": 10,
   "id": "743264ef",
   "metadata": {},
   "outputs": [
    {
     "data": {
      "text/plain": [
       "<LIAStatus.REF_UNLOCK: 8>"
      ]
     },
     "execution_count": 10,
     "metadata": {},
     "output_type": "execute_result"
    }
   ],
   "source": [
    "sr830.lia_status"
   ]
  },
  {
   "cell_type": "code",
   "execution_count": null,
   "id": "1dd00e79",
   "metadata": {},
   "outputs": [],
   "source": []
  }
 ],
 "metadata": {
  "kernelspec": {
   "display_name": "Python 3",
   "language": "python",
   "name": "python3"
  },
  "language_info": {
   "codemirror_mode": {
    "name": "ipython",
    "version": 3
   },
   "file_extension": ".py",
   "mimetype": "text/x-python",
   "name": "python",
   "nbconvert_exporter": "python",
   "pygments_lexer": "ipython3",
   "version": "3.8.11"
  }
 },
 "nbformat": 4,
 "nbformat_minor": 5
}
